{
 "cells": [
  {
   "cell_type": "markdown",
   "metadata": {},
   "source": [
    "## Priority Queue\n"
   ]
  },
  {
   "cell_type": "code",
   "execution_count": 5,
   "metadata": {},
   "outputs": [
    {
     "name": "stdout",
     "output_type": "stream",
     "text": [
      "(1, 'High')\n",
      "(2, 'Med')\n",
      "(3, 'Low')\n"
     ]
    }
   ],
   "source": [
    "# Min Heap - Default\n",
    "\n",
    "from queue import PriorityQueue\n",
    "\n",
    "pq = PriorityQueue()\n",
    "\n",
    "pq.put((3, 'Low'))\n",
    "pq.put((1, 'High'))\n",
    "pq.put((2, 'Med'))\n",
    "\n",
    "while not pq.empty():\n",
    "    item = pq.get()\n",
    "    print(item)\n"
   ]
  },
  {
   "cell_type": "markdown",
   "metadata": {},
   "source": [
    "## Priority Queue by Heap (Min Heap)\n"
   ]
  },
  {
   "cell_type": "code",
   "execution_count": 6,
   "metadata": {},
   "outputs": [
    {
     "name": "stdout",
     "output_type": "stream",
     "text": [
      "Iterate\n",
      "(1, 'High')\n",
      "(3, 'Low')\n",
      "(2, 'Med')\n"
     ]
    }
   ],
   "source": [
    "import heapq\n",
    "\n",
    "hq = []\n",
    "heapq.heappush(hq, (3, 'Low'))\n",
    "heapq.heappush(hq, (1, 'High'))\n",
    "heapq.heappush(hq, (2, 'Med'))\n",
    "\n",
    "# while hq:\n",
    "#     item = heapq.heappop(hq)\n",
    "#     print(item)\n",
    "\n",
    "# Check and remove\n",
    "print(\"Iterate\")\n",
    "\n",
    "for i in range(len(hq)):\n",
    "    print(hq[i])\n"
   ]
  },
  {
   "cell_type": "markdown",
   "metadata": {},
   "source": [
    "## Heap and Heap Sort\n",
    "\n",
    "https://www.geeksforgeeks.org/building-heap-from-array/\n",
    "\n",
    "https://www.geeksforgeeks.org/heap-sort/\n"
   ]
  },
  {
   "cell_type": "code",
   "execution_count": 7,
   "metadata": {},
   "outputs": [
    {
     "name": "stdout",
     "output_type": "stream",
     "text": [
      "Max Heap: [50, 35, 15, 20, 30, 10]\n",
      "Sorted Array: [10, 15, 20, 30, 35, 50]\n"
     ]
    }
   ],
   "source": [
    "def heapify(arr: list, n: int, i: int) -> None:\n",
    "    largest = i\n",
    "    l = (2 * i) + 1\n",
    "    r = (2 * i) + 2\n",
    "    # Does l overflow\n",
    "    if l < n and arr[l] > arr[largest]:\n",
    "        largest = l\n",
    "    if r < n and arr[r] > arr[largest]:\n",
    "        largest = r\n",
    "    # if largest was changed, then swap\n",
    "    if largest != i:\n",
    "        arr[i], arr[largest] = arr[largest], arr[i]\n",
    "        heapify(arr, n, largest)\n",
    "\n",
    "\n",
    "def buildHeap(arr: list) -> None:\n",
    "    n = len(arr)\n",
    "    for i in range((n//2)-1, -1, -1):\n",
    "        heapify(arr, n, i)\n",
    "\n",
    "\n",
    "def heapSort(arr: list) -> None:\n",
    "    n = len(arr)\n",
    "    for i in range(n-1, 0, -1):\n",
    "        arr[i], arr[0] = arr[0], arr[i]\n",
    "        heapify(arr, i, 0)\n",
    "\n",
    "\n",
    "arr = [10, 30, 50, 20, 35, 15]\n",
    "buildHeap(arr)\n",
    "print(f\"Max Heap: {arr}\")\n",
    "heapSort(arr)\n",
    "print(f\"Sorted Array: {arr}\")\n"
   ]
  },
  {
   "cell_type": "markdown",
   "metadata": {},
   "source": [
    "> Heap Data Structure: [Heap Video](https://www.youtube.com/watch?v=ywx-Onrdx4U&ab_channel=AnujBhaiya)\n"
   ]
  },
  {
   "cell_type": "markdown",
   "metadata": {},
   "source": [
    "### Kth largest element\n"
   ]
  },
  {
   "cell_type": "code",
   "execution_count": 1,
   "metadata": {},
   "outputs": [
    {
     "name": "stdout",
     "output_type": "stream",
     "text": [
      "4\n"
     ]
    },
    {
     "data": {
      "text/plain": [
       "7"
      ]
     },
     "execution_count": 1,
     "metadata": {},
     "output_type": "execute_result"
    }
   ],
   "source": [
    "import heapq\n",
    "\n",
    "\n",
    "def findKthLargest(nums: list[int], k: int) -> list[int]:\n",
    "    hq = []\n",
    "\n",
    "    # Create a heap of top k\n",
    "    # Default min heap\n",
    "    for i in range(k):\n",
    "        heapq.heappush(hq, nums[i])\n",
    "\n",
    "    for i in range(k, len(nums)):\n",
    "        if nums[i] > hq[0]:\n",
    "            heapq.heappop(hq)\n",
    "            heapq.heappush(hq, nums[i])\n",
    "\n",
    "            # OR\n",
    "            # heapq.heappushpop(hq, nums[i])\n",
    "\n",
    "    return hq[0]\n",
    "\n",
    "\n",
    "def kThSmallest(nums: list[int], k: int) -> int:\n",
    "    hq = []\n",
    "    for i in range(k):\n",
    "        heapq.heappush(hq, (-1)*nums[i])\n",
    "    for i in range(k, len(nums)):\n",
    "        if nums[i] < -hq[0]:\n",
    "            heapq.heappushpop(hq, -nums[i])\n",
    "    return -hq[0]\n",
    "\n",
    "\n",
    "print(findKthLargest([3, 2, 3, 1, 2, 4, 5, 5, 6], 4))\n",
    "kThSmallest([7, 10, 4, 3, 20, 15], 3)\n"
   ]
  },
  {
   "cell_type": "markdown",
   "metadata": {},
   "source": [
    "### Top K Frequent Elements\n"
   ]
  },
  {
   "cell_type": "code",
   "execution_count": 2,
   "metadata": {},
   "outputs": [
    {
     "data": {
      "text/plain": [
       "[2, 1]"
      ]
     },
     "execution_count": 2,
     "metadata": {},
     "output_type": "execute_result"
    }
   ],
   "source": [
    "import heapq\n",
    "\n",
    "\n",
    "def topKFrequent(nums: list[int], k: int) -> list[int]:\n",
    "    d = {}\n",
    "    ans = []\n",
    "    for x in nums:\n",
    "        d[x] = d.get(x, 0) + 1\n",
    "    sortByVal = sorted(d.items(), key=lambda x: -x[1])\n",
    "    for i in range(k):\n",
    "        ans.append(sortByVal[i][0])\n",
    "    return ans\n",
    "\n",
    "\n",
    "def topKFrequentOP(nums: list[int], k: int) -> list[int]:\n",
    "    d = {}\n",
    "    hp = []\n",
    "    for x in nums:\n",
    "        d[x] = d.get(x, 0) + 1\n",
    "\n",
    "    items = list(d.items())\n",
    "\n",
    "    for i in range(k):\n",
    "        heapq.heappush(hp, (items[i][1], items[i][0]))\n",
    "\n",
    "    for i in range(k, len(items)):\n",
    "        k, v = items[i]\n",
    "        if v > hp[0][0]:\n",
    "            heapq.heappushpop(hp, (v, k))\n",
    "    return [x[1] for x in hp]\n",
    "\n",
    "\n",
    "topKFrequentOP([1, 1, 1, 2, 2, 3], 2)\n"
   ]
  },
  {
   "cell_type": "markdown",
   "metadata": {},
   "source": [
    "## More on Heaps\n",
    "\n",
    "1. Merge k Sorted Arrays - [Link](https://practice.geeksforgeeks.org/problems/merge-k-sorted-arrays/1)"
   ]
  },
  {
   "cell_type": "markdown",
   "metadata": {},
   "source": []
  }
 ],
 "metadata": {
  "interpreter": {
   "hash": "9250689420f5fcec2e87e1b49a845440886f5cb4c2d782e001b00ac5594b23d3"
  },
  "kernelspec": {
   "display_name": "Python 3.9.5 64-bit",
   "name": "python3"
  },
  "language_info": {
   "codemirror_mode": {
    "name": "ipython",
    "version": 3
   },
   "file_extension": ".py",
   "mimetype": "text/x-python",
   "name": "python",
   "nbconvert_exporter": "python",
   "pygments_lexer": "ipython3",
   "version": "3.9.5"
  },
  "orig_nbformat": 4
 },
 "nbformat": 4,
 "nbformat_minor": 2
}
