{
 "cells": [
  {
   "cell_type": "markdown",
   "metadata": {},
   "source": [
    "## Prime Number\n"
   ]
  },
  {
   "cell_type": "code",
   "execution_count": 42,
   "metadata": {},
   "outputs": [
    {
     "name": "stdout",
     "output_type": "stream",
     "text": [
      "[2, 3, 5, 7, 11, 13, 17, 19, 23, 29, 31, 37, 41, 43, 47, 53, 59, 61, 67, 71, 73, 79, 83, 89, 97]\n"
     ]
    }
   ],
   "source": [
    "import math\n",
    "\n",
    "def prime_in_range(lower: int, upper: int) -> list[int]:\n",
    "    prime = []\n",
    "    for num in range(lower, upper + 1):\n",
    "        if num > 1:\n",
    "            lim = math.floor(math.sqrt(num))\n",
    "            for i in range(2, lim + 1):\n",
    "                if num % i == 0:\n",
    "                    break\n",
    "            else:\n",
    "                prime.append(num)\n",
    "    return prime\n",
    "\n",
    "print(prime_in_range(0, 100))"
   ]
  },
  {
   "cell_type": "code",
   "execution_count": 41,
   "metadata": {},
   "outputs": [
    {
     "data": {
      "text/plain": [
       "True"
      ]
     },
     "execution_count": 41,
     "metadata": {},
     "output_type": "execute_result"
    }
   ],
   "source": [
    "def isPrime(num: int) -> bool:\n",
    "    for i in range(2, int(num**0.5)+1):\n",
    "        if num % i == 0:\n",
    "            return False\n",
    "    return num >= 2\n",
    "\n",
    "isPrime(2)"
   ]
  },
  {
   "cell_type": "markdown",
   "metadata": {},
   "source": [
    "## Binary To Decimal\n"
   ]
  },
  {
   "cell_type": "code",
   "execution_count": 3,
   "metadata": {},
   "outputs": [
    {
     "data": {
      "text/plain": [
       "21"
      ]
     },
     "execution_count": 3,
     "metadata": {},
     "output_type": "execute_result"
    }
   ],
   "source": [
    "def binDec(nums: str):\n",
    "    p = 0\n",
    "    ans = 0\n",
    "    for i in range(len(nums)-1, -1, -1):\n",
    "        ans += int(nums[i])*(2**(p))\n",
    "        p += 1\n",
    "    return ans\n",
    "\n",
    "\n",
    "binDec(\"10101\")\n"
   ]
  },
  {
   "cell_type": "markdown",
   "metadata": {},
   "source": [
    "## Leap Year\n"
   ]
  },
  {
   "cell_type": "code",
   "execution_count": 1,
   "metadata": {},
   "outputs": [
    {
     "data": {
      "text/plain": [
       "False"
      ]
     },
     "execution_count": 1,
     "metadata": {},
     "output_type": "execute_result"
    }
   ],
   "source": [
    "def isLeapYear(year: int) -> bool:\n",
    "    if year % 4 != 0 or (year % 100 == 0 and year % 400 != 0):\n",
    "        return False\n",
    "    return True\n",
    "\n",
    "\n",
    "isLeapYear(1900)\n"
   ]
  },
  {
   "cell_type": "markdown",
   "metadata": {},
   "source": [
    "## First non repeating\n"
   ]
  },
  {
   "cell_type": "code",
   "execution_count": 5,
   "metadata": {},
   "outputs": [
    {
     "data": {
      "text/plain": [
       "'c'"
      ]
     },
     "execution_count": 5,
     "metadata": {},
     "output_type": "execute_result"
    }
   ],
   "source": [
    "def firstNon(s: str) -> str:\n",
    "    d = {}\n",
    "    for x in s:\n",
    "        d[x] = d.get(x, 0) + 1\n",
    "    for x in s:\n",
    "        if d[x] == 1:\n",
    "            return x\n",
    "    return ''\n",
    "\n",
    "\n",
    "firstNon(\"ababcb\")\n"
   ]
  },
  {
   "cell_type": "markdown",
   "metadata": {},
   "source": [
    "## Fibonacci Series\n"
   ]
  },
  {
   "cell_type": "code",
   "execution_count": 6,
   "metadata": {},
   "outputs": [
    {
     "data": {
      "text/plain": [
       "233"
      ]
     },
     "execution_count": 6,
     "metadata": {},
     "output_type": "execute_result"
    }
   ],
   "source": [
    "def fib(n: int) -> int:\n",
    "    FIB = [0, 1]\n",
    "    for i in range(2, n+1):\n",
    "        FIB.append(FIB[i-1] + FIB[i-2])\n",
    "    return FIB[i]\n",
    "\n",
    "\n",
    "fib(13)\n"
   ]
  },
  {
   "cell_type": "markdown",
   "metadata": {},
   "source": [
    "## Palindrome\n"
   ]
  },
  {
   "cell_type": "code",
   "execution_count": 7,
   "metadata": {},
   "outputs": [
    {
     "data": {
      "text/plain": [
       "True"
      ]
     },
     "execution_count": 7,
     "metadata": {},
     "output_type": "execute_result"
    }
   ],
   "source": [
    "def isPalindrome(s: str) -> bool:\n",
    "    i = 0\n",
    "    j = len(s) - 1\n",
    "    while i < j:\n",
    "        if s[i] == s[j]:\n",
    "            i += 1\n",
    "            j -= 1\n",
    "        else:\n",
    "            return False\n",
    "    return True\n",
    "\n",
    "\n",
    "isPalindrome(\"abcaacba\")\n"
   ]
  },
  {
   "cell_type": "markdown",
   "metadata": {},
   "source": [
    "## Sort Binary array in O(n) time\n"
   ]
  },
  {
   "cell_type": "code",
   "execution_count": 8,
   "metadata": {},
   "outputs": [
    {
     "data": {
      "text/plain": [
       "[0, 0, 0, 1, 1, 1]"
      ]
     },
     "execution_count": 8,
     "metadata": {},
     "output_type": "execute_result"
    }
   ],
   "source": [
    "def sortBinary(nums):\n",
    "    l = 0\n",
    "    r = len(nums) - 1\n",
    "    while l < r:\n",
    "        if nums[l] == 1 and nums[r] == 0:\n",
    "            nums[l], nums[r] = nums[r], nums[l]\n",
    "            l += 1\n",
    "            r -= 1\n",
    "        elif nums[l] == 1 and nums[r] == 1:\n",
    "            r -= 1\n",
    "        elif nums[l] == 0 and nums[r] == 0:\n",
    "            l += 1\n",
    "        else:\n",
    "            l += 1\n",
    "            r -= 1\n",
    "    return nums\n",
    "\n",
    "\n",
    "sortBinary([1, 0, 1, 0, 1, 0])\n"
   ]
  },
  {
   "cell_type": "markdown",
   "metadata": {
    "tags": []
   },
   "source": [
    "## Valid Anagram\n"
   ]
  },
  {
   "cell_type": "code",
   "execution_count": 9,
   "metadata": {},
   "outputs": [
    {
     "name": "stdout",
     "output_type": "stream",
     "text": [
      "True\n",
      "True\n"
     ]
    }
   ],
   "source": [
    "def isAnagram(s: str, t: str):\n",
    "    l = [0]*26\n",
    "    for i in range(len(s)):\n",
    "        l[ord(s[i]) - ord('a')] += 1\n",
    "    for i in range(len(t)):\n",
    "        l[ord(t[i]) - ord('a')] -= 1\n",
    "    return all(x == 0 for x in l)\n",
    "\n",
    "\n",
    "def isAnagramBySorting(s: str, t: str):\n",
    "    return sorted(s) == sorted(t)\n",
    "\n",
    "\n",
    "print(isAnagram(\"anagram\", \"nagaram\"))\n",
    "print(isAnagramBySorting(\"anagram\", \"nagaram\"))\n"
   ]
  },
  {
   "cell_type": "markdown",
   "metadata": {},
   "source": [
    "## String Compression"
   ]
  },
  {
   "cell_type": "code",
   "execution_count": 39,
   "metadata": {},
   "outputs": [
    {
     "data": {
      "text/plain": [
       "'w4a3d1e1x6y1w3'"
      ]
     },
     "execution_count": 39,
     "metadata": {},
     "output_type": "execute_result"
    }
   ],
   "source": [
    "def compress(s: str) -> str:\n",
    "    s += \"\\0\" # Add it \n",
    "    last = s[0]\n",
    "    c = 1\n",
    "    ans = \"\"\n",
    "    for x in s[1:]:\n",
    "        if x == last:\n",
    "            c += 1\n",
    "        else:\n",
    "            ans += last + str(c)\n",
    "            c = 1\n",
    "        last = x\n",
    "    return ans\n",
    "\n",
    "compress(\"wwwwaaadexxxxxxywww\")    "
   ]
  },
  {
   "cell_type": "markdown",
   "metadata": {},
   "source": [
    "## Valid Parentheses"
   ]
  },
  {
   "cell_type": "code",
   "execution_count": 40,
   "metadata": {},
   "outputs": [
    {
     "data": {
      "text/plain": [
       "True"
      ]
     },
     "execution_count": 40,
     "metadata": {},
     "output_type": "execute_result"
    }
   ],
   "source": [
    "def isValid(s: str) -> bool:\n",
    "    stack = []\n",
    "    for x in s:\n",
    "        if x in {'{', '[', '('}:\n",
    "            stack.append(x)\n",
    "        else:\n",
    "            top = stack[-1] if len(stack) != 0 else '-' \n",
    "            # if stack is empty and it goes in else, ie x is closing bracket\n",
    "            if top == '(' and x == ')':\n",
    "                stack.pop()\n",
    "            elif top == '[' and x == ']':\n",
    "                stack.pop()\n",
    "            elif top == '{' and x == '}':\n",
    "                stack.pop()\n",
    "            else:\n",
    "                return False\n",
    "    return len(stack) == 0\n",
    "\n",
    "isValid(\"[{}]()[{}]\")"
   ]
  }
 ],
 "metadata": {
  "interpreter": {
   "hash": "9250689420f5fcec2e87e1b49a845440886f5cb4c2d782e001b00ac5594b23d3"
  },
  "kernelspec": {
   "display_name": "Python 3",
   "language": "python",
   "name": "python3"
  },
  "language_info": {
   "codemirror_mode": {
    "name": "ipython",
    "version": 3
   },
   "file_extension": ".py",
   "mimetype": "text/x-python",
   "name": "python",
   "nbconvert_exporter": "python",
   "pygments_lexer": "ipython3",
   "version": "3.9.5"
  }
 },
 "nbformat": 4,
 "nbformat_minor": 4
}
