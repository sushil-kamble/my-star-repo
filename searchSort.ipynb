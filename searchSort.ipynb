{
 "cells": [
  {
   "cell_type": "markdown",
   "metadata": {},
   "source": [
    "## Binary Search\n"
   ]
  },
  {
   "cell_type": "code",
   "execution_count": 1,
   "metadata": {},
   "outputs": [
    {
     "data": {
      "text/plain": [
       "4"
      ]
     },
     "execution_count": 1,
     "metadata": {},
     "output_type": "execute_result"
    }
   ],
   "source": [
    "def binarySearch(nums: list, key: int):\n",
    "    low = 0\n",
    "    high = len(nums) - 1\n",
    "    while low <= high:\n",
    "        mid = (low+high) // 2\n",
    "        if nums[mid] < key:\n",
    "            low = mid + 1\n",
    "        elif nums[mid] > key:\n",
    "            high = mid - 1\n",
    "        else:\n",
    "            # If leftmost assign mid to variable and change high to mid - 1\n",
    "            return mid\n",
    "    return -1\n",
    "\n",
    "\n",
    "binarySearch([1, 5, 10, 15, 20], 20)\n"
   ]
  },
  {
   "cell_type": "markdown",
   "metadata": {},
   "source": [
    "### Search Insert Position\n",
    "\n",
    "https://leetcode.com/problems/search-insert-position/\n"
   ]
  },
  {
   "cell_type": "code",
   "execution_count": 2,
   "metadata": {},
   "outputs": [
    {
     "data": {
      "text/plain": [
       "1"
      ]
     },
     "execution_count": 2,
     "metadata": {},
     "output_type": "execute_result"
    }
   ],
   "source": [
    "def searchInsert(nums: list[int], target: int) -> int:\n",
    "    low, high = 0, len(nums) - 1\n",
    "    while low <= high:\n",
    "        mid = (low + high) // 2\n",
    "        if nums[mid] == target:\n",
    "            return mid\n",
    "        elif nums[mid] > target:\n",
    "            high = mid - 1\n",
    "        else:\n",
    "            low = mid + 1\n",
    "    return low\n",
    "\n",
    "\n",
    "searchInsert([1, 3, 5, 6], 2)\n"
   ]
  },
  {
   "cell_type": "markdown",
   "metadata": {},
   "source": [
    "### Search in Rotated Sorted Array\n",
    "\n",
    "https://leetcode.com/problems/search-in-rotated-sorted-array/discuss/14437/Python-binary-search-solution-O(logn)-48ms\n"
   ]
  },
  {
   "cell_type": "code",
   "execution_count": 3,
   "metadata": {},
   "outputs": [
    {
     "data": {
      "text/plain": [
       "4"
      ]
     },
     "execution_count": 3,
     "metadata": {},
     "output_type": "execute_result"
    }
   ],
   "source": [
    "def search(nums: list[int], target: int) -> int:\n",
    "    low, high = 0, len(nums) - 1\n",
    "    while low <= high:\n",
    "        mid = (low + high) // 2\n",
    "        if target == nums[mid]:\n",
    "            return mid\n",
    "        if nums[mid] >= nums[low]:  # left rotated\n",
    "            # in ascending order side\n",
    "            if nums[low] <= target <= nums[mid]:\n",
    "                high = mid - 1\n",
    "            else:\n",
    "                low = mid + 1\n",
    "        else:  # right rotated\n",
    "            # in ascending order side\n",
    "            if nums[mid] <= target <= nums[high]:\n",
    "                low = mid + 1\n",
    "            else:\n",
    "                high = mid - 1\n",
    "    return -1\n",
    "\n",
    "\n",
    "search([4, 5, 6, 7, 0, 1, 2], 0)\n"
   ]
  },
  {
   "cell_type": "markdown",
   "metadata": {},
   "source": [
    "### Search in a row wise and column wise sorted matrix\n",
    "\n",
    "https://www.geeksforgeeks.org/search-in-row-wise-and-column-wise-sorted-matrix/\n"
   ]
  },
  {
   "cell_type": "code",
   "execution_count": 4,
   "metadata": {},
   "outputs": [
    {
     "data": {
      "text/plain": [
       "(2, 1)"
      ]
     },
     "execution_count": 4,
     "metadata": {},
     "output_type": "execute_result"
    }
   ],
   "source": [
    "def search(mat: list[list[int]], target) -> tuple:\n",
    "    i, j = 0, len(mat[0]) - 1\n",
    "\n",
    "    while i < len(mat) and j >= 0:\n",
    "        if mat[i][j] == target:\n",
    "            return (i, j)\n",
    "        if target < mat[i][j]:\n",
    "            j -= 1\n",
    "        else:\n",
    "            i += 1\n",
    "    return (-1, -1)\n",
    "\n",
    "\n",
    "search([[10, 20, 30], [15, 25, 35], [27, 29, 37]], 29)\n"
   ]
  },
  {
   "cell_type": "markdown",
   "metadata": {},
   "source": [
    "### Search a 2D Matrix - Leetcode\n",
    "\n",
    "https://youtu.be/ZYpYur0znng?t=429\n"
   ]
  },
  {
   "cell_type": "code",
   "execution_count": 5,
   "metadata": {},
   "outputs": [
    {
     "data": {
      "text/plain": [
       "True"
      ]
     },
     "execution_count": 5,
     "metadata": {},
     "output_type": "execute_result"
    }
   ],
   "source": [
    "def searchLeetcode(mat: list[list[int]], target) -> bool:\n",
    "    low, high = 0, len(mat) * len(mat[0]) - 1\n",
    "    while low <= high:\n",
    "        mid = (low + high) // 2\n",
    "        i = mid // len(mat[0])\n",
    "        j = mid % len(mat[0])\n",
    "        if target == mat[i][j]:\n",
    "            return True\n",
    "        if target < mat[i][j]:\n",
    "            high = mid - 1\n",
    "        else:\n",
    "            low = mid + 1\n",
    "    return False\n",
    "\n",
    "\n",
    "searchLeetcode([[1, 3, 5, 7], [10, 11, 16, 20], [23, 30, 34, 60]], 30)\n"
   ]
  },
  {
   "cell_type": "markdown",
   "metadata": {},
   "source": [
    "## Bubble Sort\n"
   ]
  },
  {
   "cell_type": "code",
   "execution_count": 6,
   "metadata": {},
   "outputs": [
    {
     "name": "stdout",
     "output_type": "stream",
     "text": [
      "[4, 12, 16, 16, 24, 26, 28, 180]\n"
     ]
    }
   ],
   "source": [
    "def bubble_sort(elem: list):\n",
    "    n = len(elem)\n",
    "    for i in range(n - 1):\n",
    "        # was_swapped = False\n",
    "        for j in range(n - i - 1):\n",
    "            if elem[j] > elem[j + 1]:\n",
    "                # was_swapped = True\n",
    "                elem[j], elem[j + 1] = elem[j + 1], elem[j]\n",
    "        # if not was_swapped:\n",
    "        #     break\n",
    "    return elem\n",
    "\n",
    "\n",
    "elements = [16, 16, 180, 4, 12, 24, 26, 28, ]\n",
    "bubble_sort(elements)\n",
    "print(elements)\n"
   ]
  },
  {
   "cell_type": "markdown",
   "metadata": {},
   "source": [
    "### Sort Array of 0, 1 & 2\n",
    "\n",
    "https://www.youtube.com/watch?v=oaVa-9wmpns&ab_channel=takeUforward\n"
   ]
  },
  {
   "cell_type": "code",
   "execution_count": 7,
   "metadata": {},
   "outputs": [
    {
     "name": "stdout",
     "output_type": "stream",
     "text": [
      "[0, 0, 1, 1, 2, 2]\n"
     ]
    }
   ],
   "source": [
    "def sort(arr: list[int]) -> None:\n",
    "    low, mid, high = 0, 0, len(arr) - 1\n",
    "    while mid <= high:\n",
    "        if arr[mid] == 0:\n",
    "            arr[low], arr[mid] = arr[mid], arr[low]\n",
    "            low, mid = low + 1, mid + 1\n",
    "        elif arr[mid] == 1:\n",
    "            mid += 1\n",
    "        else:\n",
    "            arr[high], arr[mid] = arr[mid], arr[high]\n",
    "            high -= 1\n",
    "\n",
    "\n",
    "arr = [0, 2, 1, 2, 0, 1]\n",
    "sort(arr)\n",
    "print(arr)\n"
   ]
  },
  {
   "cell_type": "markdown",
   "metadata": {},
   "source": [
    "## Quick Sort\n"
   ]
  },
  {
   "cell_type": "code",
   "execution_count": 8,
   "metadata": {},
   "outputs": [
    {
     "name": "stdout",
     "output_type": "stream",
     "text": [
      "[2, 4, 6, 6, 37]\n"
     ]
    }
   ],
   "source": [
    "def quick_sort(data, start, end):\n",
    "    if start < end:\n",
    "        p = quick_partition(data, start, end)\n",
    "        quick_sort(data, start, p - 1)\n",
    "        quick_sort(data, p + 1, end)\n",
    "\n",
    "\n",
    "def quick_partition(elem: list, start, end):\n",
    "    pivot_index = start\n",
    "    pivot = elem[pivot_index]\n",
    "    while start < end:\n",
    "        while start < len(elem) and elem[start] <= pivot:\n",
    "            start += 1\n",
    "        while elem[end] > pivot:\n",
    "            end -= 1\n",
    "        if start < end:\n",
    "            elem[start], elem[end] = elem[end], elem[start]\n",
    "    elem[end], elem[pivot_index] = elem[pivot_index], elem[end]\n",
    "    return end\n",
    "\n",
    "\n",
    "elements1 = [37, 2, 6, 4, 6]\n",
    "quick_sort(elements1, 0, len(elements1) - 1)\n",
    "print(elements1)\n"
   ]
  },
  {
   "cell_type": "markdown",
   "metadata": {},
   "source": [
    "## Merge Sort\n"
   ]
  },
  {
   "cell_type": "code",
   "execution_count": 9,
   "metadata": {},
   "outputs": [
    {
     "name": "stdout",
     "output_type": "stream",
     "text": [
      "[10, 20, 30, 50, 60, 70, 80]\n"
     ]
    }
   ],
   "source": [
    "def merge_sort(arr):\n",
    "    if len(arr) <= 1:\n",
    "        return\n",
    "    mid = len(arr) // 2\n",
    "    left = arr[:mid]\n",
    "    right = arr[mid:]\n",
    "    merge_sort(left)\n",
    "    merge_sort(right)\n",
    "    merge_sorted_partition(left, right, arr)\n",
    "\n",
    "\n",
    "def merge_sorted_partition(a: list, b: list, arr: list):\n",
    "    len_a = len(a)\n",
    "    len_b = len(b)\n",
    "    i = j = k = 0\n",
    "    while i < len_a and j < len_b:\n",
    "        if a[i] <= b[j]:\n",
    "            arr[k] = a[i]\n",
    "            i += 1\n",
    "        else:\n",
    "            arr[k] = b[j]\n",
    "            j += 1\n",
    "        k += 1\n",
    "    while i < len_a:\n",
    "        arr[k] = a[i]\n",
    "        i += 1\n",
    "        k += 1\n",
    "    while j < len_b:\n",
    "        arr[k] = b[j]\n",
    "        j += 1\n",
    "        k += 1\n",
    "\n",
    "\n",
    "elements2 = [10, 60, 50, 30, 20, 70, 80]\n",
    "merge_sort(elements2)\n",
    "print(elements2)\n"
   ]
  }
 ],
 "metadata": {
  "interpreter": {
   "hash": "9250689420f5fcec2e87e1b49a845440886f5cb4c2d782e001b00ac5594b23d3"
  },
  "kernelspec": {
   "display_name": "Python 3.9.5 64-bit",
   "name": "python3"
  },
  "language_info": {
   "codemirror_mode": {
    "name": "ipython",
    "version": 3
   },
   "file_extension": ".py",
   "mimetype": "text/x-python",
   "name": "python",
   "nbconvert_exporter": "python",
   "pygments_lexer": "ipython3",
   "version": "3.9.5"
  },
  "orig_nbformat": 4
 },
 "nbformat": 4,
 "nbformat_minor": 2
}
