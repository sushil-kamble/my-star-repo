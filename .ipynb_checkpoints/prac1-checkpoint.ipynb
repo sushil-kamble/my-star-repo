{
 "cells": [
  {
   "cell_type": "code",
   "execution_count": 1,
   "id": "ebd1d4c7-48c9-4a7d-8c1c-0334809cde0f",
   "metadata": {},
   "outputs": [
    {
     "data": {
      "text/plain": [
       "9"
      ]
     },
     "execution_count": 1,
     "metadata": {},
     "output_type": "execute_result"
    }
   ],
   "source": [
    "def knapsack01(wt: list[int], cost: list[int], w: int,  n: int) -> int:\n",
    "    if n == 0 or w == 0:\n",
    "        return 0\n",
    "    if wt[n-1] <= w:\n",
    "        return max(cost[n-1] + knapsack01(wt, cost, w-wt[n-1], n-1),\n",
    "                  knapsack01(wt, cost, w, n-1))\n",
    "    return knapsack01(wt, cost, w, n-1)\n",
    "knapsack01([1, 3, 4, 5], [1, 4, 5, 7], 7, 4)"
   ]
  },
  {
   "cell_type": "code",
   "execution_count": 14,
   "id": "06a830c3-ab33-43eb-b26e-9402f20bac31",
   "metadata": {},
   "outputs": [
    {
     "name": "stdout",
     "output_type": "stream",
     "text": [
      "Not Working\n"
     ]
    }
   ],
   "source": [
    "# https://youtu.be/_gPcYovP7wc?list=PL_z_8CaSLPWekqhdCPmFohncHwz8TY2Go&t=3\n",
    "def subSetSum(arr: list[int], s: int, n: int) -> bool: # Not Working\n",
    "    if s == 0 or n == 0:\n",
    "        return True\n",
    "    if arr[n-1] <= s:\n",
    "        return subSetSum(arr, s-arr[n-1], n-1) or \\\n",
    "                subSetSum(arr, s, n-1)\n",
    "    return subSetSum(arr, s, n-1)\n",
    "subSetSum([2, 3, 7, 10], 11, 4)\n",
    "print(\"Not Working\")"
   ]
  },
  {
   "cell_type": "code",
   "execution_count": null,
   "id": "c1cc4081-e3f9-4d8f-9ae8-0a499a3727c3",
   "metadata": {},
   "outputs": [],
   "source": []
  }
 ],
 "metadata": {
  "kernelspec": {
   "display_name": "Python 3",
   "language": "python",
   "name": "python3"
  },
  "language_info": {
   "codemirror_mode": {
    "name": "ipython",
    "version": 3
   },
   "file_extension": ".py",
   "mimetype": "text/x-python",
   "name": "python",
   "nbconvert_exporter": "python",
   "pygments_lexer": "ipython3",
   "version": "3.9.5"
  }
 },
 "nbformat": 4,
 "nbformat_minor": 5
}
