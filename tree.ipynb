{
 "cells": [
  {
   "cell_type": "markdown",
   "metadata": {},
   "source": [
    "## Tree\n"
   ]
  },
  {
   "cell_type": "code",
   "execution_count": 15,
   "metadata": {},
   "outputs": [
    {
     "name": "stdout",
     "output_type": "stream",
     "text": [
      "[10, 15, 22, 25, 35, 50, 70]\n",
      "10  15  22  25  35  50  70  \n",
      "Right View of Tree: [25, 50, 70]\n",
      "Left View of Tree: [25, 15, 10]\n",
      "Height of Tree: 3\n"
     ]
    }
   ],
   "source": [
    "class Node:\n",
    "    def __init__(self, key):\n",
    "        self.left = None\n",
    "        self.right = None\n",
    "        self.val = key\n",
    "\n",
    "\n",
    "def printInorder(root): # Inorder is Sorted\n",
    "    if root:\n",
    "        printInorder(root.left)\n",
    "        print(root.val, end=\"  \")\n",
    "        printInorder(root.right)\n",
    "\n",
    "\n",
    "# Solve BST, Kth Smallest, Valid BST \n",
    "def inOrderIterative(root): \n",
    "    stack = []\n",
    "    arr = []\n",
    "    while (root) or (stack):\n",
    "        while root:\n",
    "            stack.append(root)\n",
    "            root = root.left\n",
    "        root = stack.pop()\n",
    "        arr.append(root.val)\n",
    "        root = root.right\n",
    "    return arr\n",
    "\n",
    "\n",
    "def printPreorder(root):\n",
    "    if root:\n",
    "        print(root.val, end=\"  \")\n",
    "        printPreorder(root.left)\n",
    "        printPreorder(root.right)\n",
    "\n",
    "\n",
    "def printPostorder(root):\n",
    "    if root:\n",
    "        printPostorder(root.left)\n",
    "        printPostorder(root.right)\n",
    "        print(root.val, end=\"  \")\n",
    "\n",
    "\n",
    "def rightViewTree(root, level: int = 0, stack: list = []) -> list:\n",
    "    if not root:\n",
    "        return\n",
    "    if level == len(stack):\n",
    "        stack.append(root.val)\n",
    "    rightViewTree(root.right, level+1, stack)\n",
    "    rightViewTree(root.left, level+1, stack)\n",
    "    return stack\n",
    "\n",
    "\n",
    "def leftViewTree(root, level: int = 0, stack: list = []) -> list:\n",
    "    if not root:\n",
    "        return\n",
    "    if level == len(stack):\n",
    "        stack.append(root.val)\n",
    "    leftViewTree(root.left, level+1, stack)\n",
    "    leftViewTree(root.right, level+1, stack)\n",
    "    return stack\n",
    "\n",
    "\n",
    "def maxDepth(root) -> int:\n",
    "    if not root:\n",
    "        return 0\n",
    "    return 1 + max(maxDepth(root.left), maxDepth(root.right))\n",
    "\n",
    "\n",
    "def buildTree() -> Node:\n",
    "    root = Node(25)\n",
    "    root.left = Node(15)\n",
    "    root.right = Node(50)\n",
    "    root.left.left = Node(10)\n",
    "    root.left.right = Node(22)\n",
    "    root.right.left = Node(35)\n",
    "    root.right.right = Node(70)\n",
    "    return root\n",
    "\n",
    "\n",
    "root = buildTree()\n",
    "print(inOrderIterative(root))\n",
    "printInorder(root)\n",
    "print()\n",
    "print(f\"Right View of Tree: {rightViewTree(root)}\")\n",
    "print(f\"Left View of Tree: {leftViewTree(root)}\")\n",
    "print(f\"Height of Tree: {maxDepth(root)}\")\n"
   ]
  },
  {
   "cell_type": "markdown",
   "metadata": {},
   "source": [
    "Tree Visualization\n",
    "\n",
    "![tree](sc/tree.png)\n"
   ]
  },
  {
   "cell_type": "code",
   "execution_count": 2,
   "metadata": {},
   "outputs": [
    {
     "name": "stdout",
     "output_type": "stream",
     "text": [
      "Level Order: [[25], [15, 50], [10, 22, 35, 70]]\n",
      "Top View: [10, 15, 25, 50, 70]\n"
     ]
    }
   ],
   "source": [
    "from collections import deque\n",
    "\n",
    "\n",
    "def levelOrder(root) -> list[list[int]]:\n",
    "    \"\"\"\n",
    "    Level Order Traversal - https://youtu.be/EoAsWbO7sqg?t=119\n",
    "    \"\"\"\n",
    "    if root is None:\n",
    "        return [[]]\n",
    "    queue = deque([root])  # 1. Add root to queue\n",
    "    levelOrderAns = []\n",
    "    while queue:  # 2. Till Queue is empty\n",
    "        subLevel = []\n",
    "        n = len(queue)\n",
    "        for i in range(n):  # 3. Do this 'n' times\n",
    "            node = queue.popleft()  # 4. Remove node one by one from queue\n",
    "            if node.left:  # 5. Check if left/right exists append to queue\n",
    "                queue.append(node.left)\n",
    "            if node.right:\n",
    "                queue.append(node.right)\n",
    "            # 6. After processing the node append to sub level\n",
    "            subLevel.append(node.val)\n",
    "        levelOrderAns.append(subLevel)  # 7. Append that sub level to final ans\n",
    "    return levelOrderAns\n",
    "\n",
    "\n",
    "def topView(root) -> list[list[int]]:\n",
    "    \"\"\"\n",
    "    Top View of Binary Tree - https://youtu.be/Et9OCDNvJ78\n",
    "    \"\"\"\n",
    "    queue = deque([(root, 0)])\n",
    "    lineNodeMap = dict()\n",
    "    while len(queue) > 0:\n",
    "        node, line = queue.popleft()\n",
    "        if line not in lineNodeMap:\n",
    "            lineNodeMap[line] = node.val\n",
    "        if node.left:\n",
    "            queue.append((node.left, line-1))\n",
    "        if node.right:\n",
    "            queue.append((node.right, line+1))\n",
    "\n",
    "    # Python doesn't sort dict\n",
    "    return [x[1] for x in sorted(lineNodeMap.items(), key=lambda x: x[0])]\n",
    "\n",
    "\n",
    "print(f\"Level Order: {levelOrder(root)}\")\n",
    "print(f\"Top View: {topView(root)}\")\n"
   ]
  },
  {
   "cell_type": "markdown",
   "metadata": {},
   "source": [
    "## Iterative DFS\n"
   ]
  },
  {
   "cell_type": "code",
   "execution_count": 3,
   "metadata": {},
   "outputs": [
    {
     "name": "stdout",
     "output_type": "stream",
     "text": [
      "[25, 15, 10, 22, 50, 35, 70]\n"
     ]
    }
   ],
   "source": [
    "def dfs(root):\n",
    "    stack = [root]\n",
    "    arr = []\n",
    "    while stack:\n",
    "        node = stack.pop()\n",
    "        # OR if not root: continue (remove those if condn)\n",
    "        arr.append(node.val)\n",
    "        if node.right:\n",
    "            stack.append(node.right)\n",
    "        if node.left:\n",
    "            stack.append(node.left)\n",
    "    return arr\n",
    "\n",
    "\n",
    "def preorder(root):\n",
    "    print(dfs(root))\n",
    "\n",
    "\n",
    "root = buildTree()\n",
    "preorder(root)\n"
   ]
  },
  {
   "cell_type": "markdown",
   "metadata": {},
   "source": [
    "## Root to leaf paths\n"
   ]
  },
  {
   "cell_type": "code",
   "execution_count": 4,
   "metadata": {},
   "outputs": [
    {
     "name": "stdout",
     "output_type": "stream",
     "text": [
      "['25 15 10', '25 15 22', '25 50 35', '25 50 70']\n"
     ]
    }
   ],
   "source": [
    "def dfs(root):\n",
    "    stack = [(root, \"\")]\n",
    "    arr = []\n",
    "    while stack:\n",
    "        node, path = stack.pop()\n",
    "        path += str(node.val) + \" \"\n",
    "        if not node.left and not node.right:  # root\n",
    "            arr.append(path.strip())\n",
    "        if node.right:\n",
    "            stack.append((node.right, path))\n",
    "        if node.left:\n",
    "            stack.append((node.left, path))\n",
    "    return arr\n",
    "\n",
    "\n",
    "def rootToLeafPaths(root):\n",
    "    print(dfs(root))\n",
    "\n",
    "\n",
    "root = buildTree()\n",
    "rootToLeafPaths(root)\n"
   ]
  },
  {
   "cell_type": "markdown",
   "metadata": {},
   "source": [
    "## Symmetric Tree\n",
    "\n",
    "https://leetcode.com/problems/symmetric-tree/\n"
   ]
  },
  {
   "cell_type": "code",
   "execution_count": 5,
   "metadata": {},
   "outputs": [],
   "source": [
    "def dfs(root):\n",
    "    stack = [(root.left, root.right)]\n",
    "    while stack:\n",
    "        left, right = stack.pop()\n",
    "        if not left and not right:\n",
    "            continue\n",
    "        if not left or not right:\n",
    "            return False\n",
    "        if left.val != right.val:\n",
    "            return False\n",
    "        stack.append((left.left, right.right))\n",
    "        stack.append((left.right, right.left))\n",
    "    return True\n",
    "\n",
    "\n",
    "def isMirror(root):\n",
    "    if not root:\n",
    "        return True\n",
    "    return dfs(root)\n"
   ]
  },
  {
   "cell_type": "markdown",
   "metadata": {},
   "source": [
    "## Sorted Array to Tree\n"
   ]
  },
  {
   "cell_type": "code",
   "execution_count": 6,
   "metadata": {},
   "outputs": [
    {
     "name": "stdout",
     "output_type": "stream",
     "text": [
      "4  2  1  3  6  5  7  "
     ]
    }
   ],
   "source": [
    "def arrayToTree(arr: list) -> Node:\n",
    "    if not arr:\n",
    "        return None\n",
    "    mid = len(arr) // 2\n",
    "    root = Node(arr[mid])\n",
    "    root.left = arrayToTree(arr[:mid])\n",
    "    root.right = arrayToTree(arr[mid+1:])\n",
    "    return root\n",
    "\n",
    "\n",
    "arr = [1, 2, 3, 4, 5, 6, 7]\n",
    "root = arrayToTree(arr)\n",
    "printPreorder(root)\n"
   ]
  },
  {
   "cell_type": "markdown",
   "metadata": {},
   "source": [
    "## More on tree\n",
    "\n",
    "1. Diameter of Binary Tree - [Link](https://leetcode.com/problems/diameter-of-binary-tree/)\n",
    "1. Mirror Tree - [Link](https://practice.geeksforgeeks.org/problems/mirror-tree/1/)\n",
    "1. Bottom View of Binary Tree - [Link](https://practice.geeksforgeeks.org/problems/bottom-view-of-binary-tree/1)\n",
    "1. Expression Tree - [Link](https://practice.geeksforgeeks.org/problems/expression-tree/1/)\n",
    "1. Diagonal Sum In Binary Tree - [Link](https://practice.geeksforgeeks.org/problems/diagonal-sum-in-binary-tree/1/)\n",
    "1. Lowest Common Ancestor in a BST - [Link](https://practice.geeksforgeeks.org/problems/lowest-common-ancestor-in-a-bst/1/)\n",
    "1. ZigZag Tree Traversal - [Link](https://practice.geeksforgeeks.org/problems/zigzag-tree-traversal/1)\n",
    "1. Boundary Traversal of binary tree - [Link](https://practice.geeksforgeeks.org/problems/boundary-traversal-of-binary-tree/1)"
   ]
  },
  {
   "cell_type": "markdown",
   "metadata": {},
   "source": []
  }
 ],
 "metadata": {
  "interpreter": {
   "hash": "9250689420f5fcec2e87e1b49a845440886f5cb4c2d782e001b00ac5594b23d3"
  },
  "kernelspec": {
   "display_name": "Python 3.9.5 64-bit",
   "name": "python3"
  },
  "language_info": {
   "codemirror_mode": {
    "name": "ipython",
    "version": 3
   },
   "file_extension": ".py",
   "mimetype": "text/x-python",
   "name": "python",
   "nbconvert_exporter": "python",
   "pygments_lexer": "ipython3",
   "version": "3.9.5"
  },
  "orig_nbformat": 4
 },
 "nbformat": 4,
 "nbformat_minor": 2
}
