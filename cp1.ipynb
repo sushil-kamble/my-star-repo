{
 "cells": [
  {
   "cell_type": "markdown",
   "metadata": {},
   "source": [
    "## Two Sum\n"
   ]
  },
  {
   "cell_type": "code",
   "execution_count": 1,
   "metadata": {
    "collapsed": true,
    "jupyter": {
     "outputs_hidden": true
    }
   },
   "outputs": [
    {
     "data": {
      "text/plain": [
       "[0, 1]"
      ]
     },
     "execution_count": 1,
     "metadata": {},
     "output_type": "execute_result"
    }
   ],
   "source": [
    "def twoSum(nums: list[int], target: int) -> list[int]:\n",
    "    d = {}\n",
    "    for i, x in enumerate(nums):\n",
    "        if x in d:\n",
    "            return [d[x], i]\n",
    "        else:\n",
    "            d[target - x] = i\n",
    "\n",
    "\n",
    "twoSum([2, 7, 11, 15], 9)\n"
   ]
  },
  {
   "cell_type": "markdown",
   "metadata": {},
   "source": [
    "## Second Last Element\n",
    "\n",
    "`first` and `second` to `-inf`, `second` will take prev value of `first`\n"
   ]
  },
  {
   "cell_type": "code",
   "execution_count": 4,
   "metadata": {
    "collapsed": false,
    "jupyter": {
     "outputs_hidden": false
    },
    "pycharm": {
     "name": "#%%\n"
    }
   },
   "outputs": [
    {
     "data": {
      "text/plain": [
       "8"
      ]
     },
     "execution_count": 4,
     "metadata": {},
     "output_type": "execute_result"
    }
   ],
   "source": [
    "def secondLast(nums: list) -> int:\n",
    "    if len(nums) < 2:\n",
    "        raise Exception(\"List should be more than 2 elements\")\n",
    "    first = second = float('-inf')\n",
    "    for x in nums:\n",
    "        if x > first:\n",
    "            second = first\n",
    "            first = x\n",
    "        elif x > second and x != first:\n",
    "            second = x\n",
    "    return second\n",
    "\n",
    "\n",
    "secondLast([1, 9, 8, 4, 4, 6, 9])\n"
   ]
  },
  {
   "cell_type": "markdown",
   "metadata": {},
   "source": [
    "## Common Array Problems\n",
    "Remove Duplicates in an sorted array (https://youtu.be/37E9ckMDdTk?list=PLgUwDviBIf0rENwdL0nEH0uGom9no0nyB&t=2270)"
   ]
  },
  {
   "cell_type": "code",
   "execution_count": 6,
   "metadata": {},
   "outputs": [
    {
     "data": {
      "text/plain": [
       "4"
      ]
     },
     "execution_count": 6,
     "metadata": {},
     "output_type": "execute_result"
    }
   ],
   "source": [
    "def removeDuplicatesInAnSortedArray(arr):\n",
    "    i = 0\n",
    "    for j in range(i+1, len(arr)):\n",
    "        if arr[i] != arr[j]:\n",
    "            arr[i+1] = arr[j]\n",
    "            i += 1\n",
    "    return i+1\n",
    "\n",
    "arr = [1,2,3,3,3,4,4]\n",
    "removeDuplicatesInAnSortedArray(arr)"
   ]
  },
  {
   "cell_type": "markdown",
   "metadata": {},
   "source": [
    "Move Zeros at the last Keeping the array order same (https://youtu.be/wvcQg43_V8U?list=PLgUwDviBIf0rENwdL0nEH0uGom9no0nyB&t=2074)"
   ]
  },
  {
   "cell_type": "code",
   "execution_count": 8,
   "metadata": {},
   "outputs": [
    {
     "data": {
      "text/plain": [
       "[4, 3, 2, 5, 9, 7, 5, 4, 0, 0, 0, 0, 0, 0, 0, 0, 0]"
      ]
     },
     "execution_count": 8,
     "metadata": {},
     "output_type": "execute_result"
    }
   ],
   "source": [
    "def moveZerosKeepingTheOrderSame(arr):\n",
    "    j = -1\n",
    "    for k in range(len(arr)):\n",
    "        if arr[k] == 0:\n",
    "            j = k\n",
    "            break\n",
    "    for i in range(j+1, len(arr)):\n",
    "        if arr[i] != 0:\n",
    "            arr[j], arr[i] = arr[i], arr[j]\n",
    "            j += 1\n",
    "\n",
    "arr = [4,0,3,0,2,5,9,7,0,5,0,0,0,0,0,4,0]\n",
    "moveZerosKeepingTheOrderSame(arr)\n",
    "arr"
   ]
  },
  {
   "cell_type": "markdown",
   "metadata": {},
   "source": [
    "## Maximum SubArray Sum\n",
    "\n",
    "If `curr_sum` is less than `0` then reset the sum to incoming element\n"
   ]
  },
  {
   "cell_type": "code",
   "execution_count": 3,
   "metadata": {
    "collapsed": false,
    "jupyter": {
     "outputs_hidden": false
    },
    "pycharm": {
     "name": "#%%\n"
    }
   },
   "outputs": [
    {
     "data": {
      "text/plain": [
       "6"
      ]
     },
     "execution_count": 3,
     "metadata": {},
     "output_type": "execute_result"
    }
   ],
   "source": [
    "def maxSubArray(nums: list[int]) -> int:\n",
    "    curr_sum = 0\n",
    "    max_so_far = float('-inf')\n",
    "    for x in nums:\n",
    "        if curr_sum <= 0:\n",
    "            curr_sum = x\n",
    "        else:\n",
    "            curr_sum += x\n",
    "        max_so_far = max(max_so_far, curr_sum)\n",
    "    return max_so_far\n",
    "\n",
    "\n",
    "maxSubArray([-2, 1, -3, 4, -1, 2, 1, -5, 4])\n"
   ]
  },
  {
   "cell_type": "markdown",
   "metadata": {},
   "source": [
    "## Maximum Product Subarray\n",
    "\n",
    "https://www.youtube.com/watch?v=lXVy6YWFcRM&ab_channel=NeetCode"
   ]
  },
  {
   "cell_type": "code",
   "execution_count": 4,
   "metadata": {},
   "outputs": [
    {
     "data": {
      "text/plain": [
       "6"
      ]
     },
     "execution_count": 4,
     "metadata": {},
     "output_type": "execute_result"
    }
   ],
   "source": [
    "def maxProductSubarray(nums: list[int]) -> int:\n",
    "    min_sum, max_sum, res = 1, 1, float('-inf')\n",
    "    for x in nums:\n",
    "        t1 = max_sum * x\n",
    "        t2 = min_sum * x\n",
    "        max_sum = max(t1, t2, x)\n",
    "        min_sum = min(t1, t2, x)\n",
    "        res = max(max_sum, res)\n",
    "    return res\n",
    "\n",
    "\n",
    "maxProductSubarray([2, 3, -2, 4])\n"
   ]
  },
  {
   "cell_type": "markdown",
   "metadata": {},
   "source": [
    "## Longest Common Prefix\n",
    "https://www.youtube.com/watch?v=0sWShKIJoo4&ab_channel=NeetCode"
   ]
  },
  {
   "cell_type": "code",
   "execution_count": 5,
   "metadata": {},
   "outputs": [
    {
     "data": {
      "text/plain": [
       "'fl'"
      ]
     },
     "execution_count": 5,
     "metadata": {},
     "output_type": "execute_result"
    }
   ],
   "source": [
    "def longestCommonPrefix(strs: list[str]):\n",
    "    res = \"\"\n",
    "    for i in range(len(strs[0])):\n",
    "        for x in strs:\n",
    "            if i == len(x) or strs[0][i] != x[i]:\n",
    "                return res\n",
    "        res += strs[0][i]\n",
    "    return res\n",
    "longestCommonPrefix([\"flower\",\"flow\",\"flight\"])"
   ]
  },
  {
   "cell_type": "markdown",
   "metadata": {},
   "source": [
    "## Best time to buy a stock\n",
    "\n",
    "Look for minimum price, Maximum Profit\n"
   ]
  },
  {
   "cell_type": "code",
   "execution_count": 6,
   "metadata": {
    "collapsed": false,
    "jupyter": {
     "outputs_hidden": false
    },
    "pycharm": {
     "name": "#%%\n"
    }
   },
   "outputs": [
    {
     "data": {
      "text/plain": [
       "5"
      ]
     },
     "execution_count": 6,
     "metadata": {},
     "output_type": "execute_result"
    }
   ],
   "source": [
    "# Look for minimum price\n",
    "# Maximum Profit\n",
    "\n",
    "def maxProfit(prices: list[int]) -> int:\n",
    "    min_price = float('inf')\n",
    "    max_profit = 0\n",
    "    for x in prices:\n",
    "        min_price = min(min_price, x)\n",
    "        max_profit = max(max_profit, x - min_price)\n",
    "    return max_profit\n",
    "\n",
    "\n",
    "maxProfit([7, 1, 5, 3, 6, 4])\n"
   ]
  },
  {
   "cell_type": "markdown",
   "metadata": {},
   "source": [
    "## Majority element\n",
    "\n",
    "The majority element is the element that appears more than ⌊n / 2⌋ times.\n"
   ]
  },
  {
   "cell_type": "code",
   "execution_count": 7,
   "metadata": {
    "collapsed": false,
    "jupyter": {
     "outputs_hidden": false
    },
    "pycharm": {
     "name": "#%%\n"
    }
   },
   "outputs": [
    {
     "data": {
      "text/plain": [
       "2"
      ]
     },
     "execution_count": 7,
     "metadata": {},
     "output_type": "execute_result"
    }
   ],
   "source": [
    "def majorityElement(nums: list[int]) -> int:\n",
    "    d = {}\n",
    "    n = len(nums) // 2\n",
    "    for num in nums:\n",
    "        d[num] = d.get(num, 0) + 1\n",
    "        if d[num] > n:\n",
    "            return num\n",
    "    return -1\n",
    "\n",
    "\n",
    "majorityElement([2, 2, 1, 1, 1, 2, 2])\n"
   ]
  },
  {
   "cell_type": "markdown",
   "metadata": {},
   "source": [
    "## Sliding Window\n",
    "\n",
    "Maximum sum of the subarray of size k (k: Window Size)\n"
   ]
  },
  {
   "cell_type": "code",
   "execution_count": 8,
   "metadata": {},
   "outputs": [
    {
     "data": {
      "text/plain": [
       "12"
      ]
     },
     "execution_count": 8,
     "metadata": {},
     "output_type": "execute_result"
    }
   ],
   "source": [
    "def slidingWindow(nums: list, k):\n",
    "    n = len(nums)\n",
    "    window_sum = sum(nums[:k])\n",
    "    max_sum = window_sum\n",
    "    for i in range(n-k):\n",
    "        window_sum = window_sum - nums[i] + nums[i+k]\n",
    "        max_sum = max(max_sum, window_sum)\n",
    "    return max_sum\n",
    "\n",
    "\n",
    "slidingWindow([1, 2, 3, 4, 5], 3)\n"
   ]
  },
  {
   "cell_type": "markdown",
   "metadata": {},
   "source": [
    "Minimum Operations to Reduce X to Zero"
   ]
  },
  {
   "cell_type": "code",
   "execution_count": 3,
   "metadata": {},
   "outputs": [
    {
     "data": {
      "text/plain": [
       "5"
      ]
     },
     "execution_count": 3,
     "metadata": {},
     "output_type": "execute_result"
    }
   ],
   "source": [
    "def minOperations(nums: list[int], x: int) -> int:\n",
    "        target = sum(nums) - x\n",
    "        if target == 0:\n",
    "            return len(nums)\n",
    "        w_sum = left = max_length = 0\n",
    "        for right in range(len(nums)):\n",
    "            # Expand Window\n",
    "            w_sum += nums[right]\n",
    "            while left <= right and w_sum > target:\n",
    "                # Shrink Window\n",
    "                w_sum -= nums[left]\n",
    "                left += 1\n",
    "            if w_sum == target:\n",
    "                max_length = max(max_length, right-left+1)\n",
    "        return len(nums) - max_length if max_length else -1\n",
    "minOperations([3,2,20,1,1,3], 10)"
   ]
  },
  {
   "cell_type": "markdown",
   "metadata": {},
   "source": [
    "## Permutations\n"
   ]
  },
  {
   "cell_type": "code",
   "execution_count": 9,
   "metadata": {},
   "outputs": [
    {
     "name": "stdout",
     "output_type": "stream",
     "text": [
      "ABC\n",
      "ACB\n",
      "BAC\n",
      "BCA\n",
      "CBA\n",
      "CAB\n"
     ]
    }
   ],
   "source": [
    "def permute(data, l, r):\n",
    "    if l == r:\n",
    "        print(''.join(data))\n",
    "    else:\n",
    "        for i in range(l, r):\n",
    "            data[l], data[i] = data[i], data[l]\n",
    "            permute(data, l+1, r)\n",
    "            data[l], data[i] = data[i], data[l]\n",
    "\n",
    "\n",
    "data = list(\"ABC\")\n",
    "n = len(data)\n",
    "permute(data, 0, n)\n",
    "# time c : n*n!\n"
   ]
  },
  {
   "cell_type": "code",
   "execution_count": null,
   "metadata": {},
   "outputs": [],
   "source": []
  }
 ],
 "metadata": {
  "interpreter": {
   "hash": "9250689420f5fcec2e87e1b49a845440886f5cb4c2d782e001b00ac5594b23d3"
  },
  "kernelspec": {
   "display_name": "Python 3.9.5 64-bit",
   "name": "python3"
  },
  "language_info": {
   "codemirror_mode": {
    "name": "ipython",
    "version": 3
   },
   "file_extension": ".py",
   "mimetype": "text/x-python",
   "name": "python",
   "nbconvert_exporter": "python",
   "pygments_lexer": "ipython3",
   "version": "3.9.6"
  }
 },
 "nbformat": 4,
 "nbformat_minor": 4
}
