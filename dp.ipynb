{
 "cells": [
  {
   "cell_type": "code",
   "execution_count": 1,
   "metadata": {},
   "outputs": [],
   "source": [
    "import pprint\n",
    "pp = pprint.PrettyPrinter()\n"
   ]
  },
  {
   "cell_type": "markdown",
   "metadata": {},
   "source": [
    "## Knapsack\n",
    "\n",
    "- Fractional Knapsack - `greedy`\n",
    "- 0/1 Knapsack - `dp`\n",
    "- Unbounded Knapsack - `dp`\n"
   ]
  },
  {
   "cell_type": "markdown",
   "metadata": {},
   "source": [
    "__Problems based on Knapsack__\n",
    "1. Subset Sum\n",
    "1. Equal Sum Partition - [Link](https://youtu.be/UmMh7xp07kYlist=PL_z_8CaSLPWekqhdCPmFohncHwz8TY2Go&t=668)\n",
    "1. Count of subset sum - [Link](https://youtu.be/F7wqWbqYn9g?list=PL_z_8CaSLPWekqhdCPmFohncHwz8TY2Go)\n",
    "1. Minimum Subset sum Diff\n",
    "1. Count the number of subset with a given difference - [Link](https://youtu.be/ot_XBHyqpFc?list=PL_z_8CaSLPWekqhdCPmFohncHwz8TY2Go&t=566)\n",
    "1. Target sum - [Link](https://youtu.be/Hw6Ygp3JBYw?list=PL_z_8CaSLPWekqhdCPmFohncHwz8TY2Go&t=301)"
   ]
  },
  {
   "cell_type": "markdown",
   "metadata": {},
   "source": [
    "### 0/1 Knapsack\n",
    "\n",
    "https://youtu.be/l02UxPYRmCQ?list=PL_z_8CaSLPWekqhdCPmFohncHwz8TY2Go&t=85\n",
    "\n",
    "for calculating last element `max(dp[3][8], dp[3][8-5] + 6)`\n",
    "\n",
    "![kp](sc/kp.png)"
   ]
  },
  {
   "cell_type": "markdown",
   "metadata": {},
   "source": [
    "- (Weight / sum / const) + 1 -> `on x axis` - in iter `j`\n",
    "- (size of arr) + 1 -> `on y axis` - in iter `i`"
   ]
  },
  {
   "cell_type": "code",
   "execution_count": 2,
   "metadata": {},
   "outputs": [
    {
     "name": "stdout",
     "output_type": "stream",
     "text": [
      "[[0, 0, 0, 0, 0, 0, 0, 0, 0],\n",
      " [0, 0, 1, 1, 1, 1, 1, 1, 1],\n",
      " [0, 0, 1, 2, 2, 3, 3, 3, 3],\n",
      " [0, 0, 1, 2, 5, 5, 6, 7, 7],\n",
      " [0, 0, 1, 2, 5, 6, 6, 7, 8]]\n"
     ]
    },
    {
     "data": {
      "text/plain": [
       "8"
      ]
     },
     "execution_count": 2,
     "metadata": {},
     "output_type": "execute_result"
    }
   ],
   "source": [
    "def knapSack(w: int, wt: list[int], cost: list[int]) -> int:\n",
    "    n = len(wt)\n",
    "    dp = [[0 for x in range(w+1)] for x in range(n+1)]\n",
    "    for i in range(1, n+1):\n",
    "        for j in range(1, w+1):\n",
    "            if wt[i-1] <= j:\n",
    "                # just change dp[i][j- wt[i-1]] -> to make unbounded knapsack\n",
    "                dp[i][j] = max(dp[i-1][j], dp[i-1][j - wt[i-1]] + cost[i-1])\n",
    "            else:\n",
    "                dp[i][j] = dp[i-1][j]\n",
    "    pp.pprint(dp)\n",
    "    return dp[n][w]\n",
    "\n",
    "\n",
    "knapSack(8, [2, 3, 4, 5], [1, 2, 5, 6])\n"
   ]
  },
  {
   "cell_type": "markdown",
   "metadata": {},
   "source": [
    "### Count of Subsets Sum with a Given Sum"
   ]
  },
  {
   "cell_type": "code",
   "execution_count": 3,
   "metadata": {},
   "outputs": [
    {
     "name": "stdout",
     "output_type": "stream",
     "text": [
      "[[1, 0, 0, 0, 0, 0, 0],\n",
      " [1, 0, 0, 1, 0, 0, 0],\n",
      " [1, 0, 0, 2, 0, 0, 1],\n",
      " [1, 0, 0, 3, 0, 0, 3],\n",
      " [1, 0, 0, 4, 0, 0, 6]]\n"
     ]
    },
    {
     "data": {
      "text/plain": [
       "6"
      ]
     },
     "execution_count": 3,
     "metadata": {},
     "output_type": "execute_result"
    }
   ],
   "source": [
    "def countSubsetSum(arr: list, s: int) -> int:\n",
    "    n = len(arr)\n",
    "    dp = [[0]*(s+1) for x in range(n+1)]\n",
    "    for i in range(s+1):\n",
    "        dp[0][i] = 0\n",
    "    for i in range(n+1):\n",
    "        dp[i][0] = 1\n",
    "    for i in range(1, n+1):\n",
    "        for j in range(1, s+1):\n",
    "            if arr[i-1] <= j:\n",
    "                dp[i][j] = dp[i-1][j - arr[i-1]] + dp[i-1][j]\n",
    "            else:\n",
    "                dp[i][j] = dp[i-1][j]\n",
    "    pp.pprint(dp)\n",
    "    return dp[i][j]\n",
    "countSubsetSum([3, 3, 3, 3], 6)"
   ]
  },
  {
   "cell_type": "markdown",
   "metadata": {},
   "source": [
    "### Coin Change (Number of Ways)"
   ]
  },
  {
   "cell_type": "code",
   "execution_count": 10,
   "metadata": {},
   "outputs": [
    {
     "data": {
      "text/plain": [
       "4"
      ]
     },
     "execution_count": 10,
     "metadata": {},
     "output_type": "execute_result"
    }
   ],
   "source": [
    "def count(S, m, n): \n",
    "    dp = [[0]*(n+1) for x in range(m+1)]\n",
    "    for i in range(n+1):\n",
    "        dp[0][i] = 0\n",
    "    for i in range(m+1):\n",
    "        dp[i][0] = 1\n",
    "    for i in range(1, m+1):\n",
    "        for j in range(1, n+1):\n",
    "            if S[i-1] <= j:\n",
    "                dp[i][j] = dp[i][j - S[i-1]] + dp[i-1][j]\n",
    "            else:\n",
    "                dp[i][j] = dp[i-1][j]\n",
    "    return dp[i][j]\n",
    "count([1, 2, 3], 3, 4)"
   ]
  },
  {
   "cell_type": "markdown",
   "metadata": {},
   "source": [
    "### Coin Change (Number of Coins)"
   ]
  },
  {
   "cell_type": "code",
   "execution_count": 9,
   "metadata": {},
   "outputs": [
    {
     "data": {
      "text/plain": [
       "2"
      ]
     },
     "execution_count": 9,
     "metadata": {},
     "output_type": "execute_result"
    }
   ],
   "source": [
    "def minCoins(S, m, n): \n",
    "    dp = [[0]*(n+1) for x in range(m+1)]\n",
    "    dp[0][0] = float('inf')\n",
    "    for i in range(1, n+1):\n",
    "        dp[0][i] = float('inf')\n",
    "        if i % S[0] == 0:\n",
    "            dp[1][i] = i // S[0]\n",
    "        else:\n",
    "            dp[1][i] = float('inf')\n",
    "    for i in range(1, m+1):\n",
    "        dp[i][0] = 0\n",
    "    for i in range(1, m+1):\n",
    "        for j in range(1, n+1):\n",
    "            if S[i-1] <= j:\n",
    "                dp[i][j] = min(1 + dp[i][j - S[i-1]], dp[i-1][j])\n",
    "            else:\n",
    "                dp[i][j] = dp[i-1][j]\n",
    "    return dp[i][j] if dp[i][j] != float('inf') else -1\n",
    "minCoins([25, 10, 5], 3, 30)"
   ]
  },
  {
   "cell_type": "markdown",
   "metadata": {},
   "source": [
    "- Rod Cutting Problem\n",
    "    1. Same as unbounded knapsack\n",
    "    1. Just create a length array \n"
   ]
  },
  {
   "cell_type": "markdown",
   "metadata": {},
   "source": [
    "## Longest Increasing Subsequence\n"
   ]
  },
  {
   "cell_type": "code",
   "execution_count": 3,
   "metadata": {},
   "outputs": [
    {
     "name": "stdout",
     "output_type": "stream",
     "text": [
      "[1, 2, 1, 3]\n"
     ]
    },
    {
     "data": {
      "text/plain": [
       "3"
      ]
     },
     "execution_count": 3,
     "metadata": {},
     "output_type": "execute_result"
    }
   ],
   "source": [
    "def lengthOfLIS(nums: list) -> int:\n",
    "    LIS = [1] * len(nums)\n",
    "    for i in range(1, len(nums)):\n",
    "        for j in range(0, i):\n",
    "            if nums[i] > nums[j] and LIS[i] < LIS[j] + 1:\n",
    "                LIS[i] += 1\n",
    "    print(LIS)\n",
    "    return max(LIS)\n",
    "\n",
    "\n",
    "lengthOfLIS([3, 10, 2, 11])\n"
   ]
  },
  {
   "cell_type": "markdown",
   "metadata": {},
   "source": [
    "## Longest Common Subsequence\n",
    "\n",
    "1. Naive Approach without caching (Not Recommended)\n",
    "2. Dynamic Programming Approach (Recommended)\n"
   ]
  },
  {
   "cell_type": "code",
   "execution_count": 4,
   "metadata": {},
   "outputs": [
    {
     "data": {
      "text/plain": [
       "3"
      ]
     },
     "execution_count": 4,
     "metadata": {},
     "output_type": "execute_result"
    }
   ],
   "source": [
    "def longestCommonSubsequence(text1: str, text2: str) -> int:\n",
    "    if len(text1) == 0 or len(text2) == 0:\n",
    "        return 0\n",
    "    # w: substring without last char, l: last char\n",
    "    w1, l1 = text1[:-1], text1[-1]\n",
    "    w2, l2 = text2[:-1], text2[-1]\n",
    "    if l1 == l2:\n",
    "        return 1 + longestCommonSubsequence(w1, w2)\n",
    "    return max(longestCommonSubsequence(text1, w2), longestCommonSubsequence(w1, text2))\n",
    "\n",
    "\n",
    "longestCommonSubsequence(\"abbbb\", \"babab\")\n"
   ]
  },
  {
   "cell_type": "code",
   "execution_count": 12,
   "metadata": {},
   "outputs": [
    {
     "name": "stdout",
     "output_type": "stream",
     "text": [
      "[[0, 0, 0, 0, 0, 0],\n",
      " [0, 0, 1, 1, 1, 1],\n",
      " [0, 1, 1, 2, 2, 2],\n",
      " [0, 1, 1, 2, 2, 3],\n",
      " [0, 1, 1, 2, 2, 3],\n",
      " [0, 1, 1, 2, 2, 3]]\n",
      "LCS String: bbb\n"
     ]
    },
    {
     "data": {
      "text/plain": [
       "3"
      ]
     },
     "execution_count": 12,
     "metadata": {},
     "output_type": "execute_result"
    }
   ],
   "source": [
    "def getString(dp: list[list[int]], s1: str, s2: str, i: int, j: int) -> str:\n",
    "    # get length of lcs, ie. last row, last col\n",
    "    lenLcs = dp[-1][-1]\n",
    "    lcs = [\"\"]*(lenLcs+1)\n",
    "    # i, j point to last row last col\n",
    "    while i > 0 and j > 0:\n",
    "        if s1[i-1] == s2[j-1]:\n",
    "            lcs[lenLcs - 1] = s1[i-1]\n",
    "            i -= 1\n",
    "            j -= 1\n",
    "            lenLcs -= 1\n",
    "        elif dp[i-1][j] > dp[i][j-1]:\n",
    "            i -= 1\n",
    "        else:\n",
    "            j -= 1\n",
    "    return \"\".join(lcs)\n",
    "\n",
    "\n",
    "def longestCommonSubsequence(s1: str, s2: str) -> int:\n",
    "    l1 = len(s1) + 1\n",
    "    l2 = len(s2) + 1\n",
    "    dp = [[0] * l2 for _ in range(l1)]\n",
    "    for i in range(l1):\n",
    "        for j in range(l2):\n",
    "            if i == 0 or j == 0:\n",
    "                dp[i][j] = 0\n",
    "            elif s1[i-1] == s2[j-1]:\n",
    "                dp[i][j] = 1 + dp[i - 1][j - 1]\n",
    "            else:\n",
    "                dp[i][j] = max(dp[i - 1][j], dp[i][j - 1])\n",
    "    pp.pprint(dp)\n",
    "    print(f\"LCS String: {getString(dp, s1, s2, i, j)}\")\n",
    "    return dp[-1][-1]\n",
    "\n",
    "\n",
    "longestCommonSubsequence(\"abbbb\", \"babab\")\n"
   ]
  },
  {
   "cell_type": "markdown",
   "metadata": {},
   "source": [
    "## Longest Common Substring\n",
    "\n",
    "https://youtu.be/BysNXJHzCEs?list=PLrmLmBdmIlpsHaNTPP_jHHDx_os9ItYXr&t=1\n"
   ]
  },
  {
   "cell_type": "code",
   "execution_count": 6,
   "metadata": {},
   "outputs": [
    {
     "name": "stdout",
     "output_type": "stream",
     "text": [
      "[[0, 0, 0, 0, 0, 0],\n",
      " [0, 0, 0, 0, 0, 0],\n",
      " [0, 0, 1, 0, 0, 0],\n",
      " [0, 0, 0, 2, 0, 0],\n",
      " [0, 0, 0, 0, 3, 0],\n",
      " [0, 0, 0, 0, 0, 0],\n",
      " [0, 0, 0, 0, 0, 1]]\n"
     ]
    },
    {
     "data": {
      "text/plain": [
       "3"
      ]
     },
     "execution_count": 6,
     "metadata": {},
     "output_type": "execute_result"
    }
   ],
   "source": [
    "def longestCommonSubstring(s1: str, s2: str) -> int:\n",
    "    m = len(s1)\n",
    "    n = len(s2)\n",
    "    dp = [[0]*(n+1) for x in range(m+1)]\n",
    "    curr_max = 0\n",
    "    for i in range(1, m+1):\n",
    "        for j in range(1, n+1):\n",
    "            if s1[i-1] == s2[j-1]:\n",
    "                dp[i][j] = 1 + dp[i-1][j-1]\n",
    "                curr_max = max(curr_max, dp[i][j])\n",
    "    pp.pprint(dp)\n",
    "    return curr_max\n",
    "\n",
    "\n",
    "longestCommonSubstring(\"abcdaf\", \"zbcdf\")\n"
   ]
  },
  {
   "cell_type": "markdown",
   "metadata": {},
   "source": [
    "## Longest Palindromic Subsequence\n",
    "\n",
    "https://www.youtube.com/watch?v=_nCsPn7_OgI&list=PLrmLmBdmIlpsHaNTPP_jHHDx_os9ItYXr&index=9\n"
   ]
  },
  {
   "cell_type": "code",
   "execution_count": 7,
   "metadata": {},
   "outputs": [
    {
     "name": "stdout",
     "output_type": "stream",
     "text": [
      "[[1, 1, 1, 1, 3, 5],\n",
      " [0, 1, 1, 1, 3, 3],\n",
      " [0, 0, 1, 1, 3, 3],\n",
      " [0, 0, 0, 1, 1, 1],\n",
      " [0, 0, 0, 0, 1, 1],\n",
      " [0, 0, 0, 0, 0, 1]]\n"
     ]
    },
    {
     "data": {
      "text/plain": [
       "5"
      ]
     },
     "execution_count": 7,
     "metadata": {},
     "output_type": "execute_result"
    }
   ],
   "source": [
    "def longestPalindromicSubsequence(s: str) -> int:\n",
    "    n = len(s)\n",
    "    dp = [[0]*(n) for x in range(n)]\n",
    "    for i in range(n):\n",
    "        dp[i][i] = 1\n",
    "    for k in range(1, len(s)):\n",
    "        for i in range(len(s)-k):\n",
    "            start, end = i, i + k\n",
    "            if s[start] == s[end]:\n",
    "                dp[start][end] = 2 + dp[start+1][end-1]\n",
    "            else:\n",
    "                dp[start][end] = max(dp[start][end-1], dp[start+1][end])\n",
    "    pp.pprint(dp)\n",
    "    return dp[0][n-1]\n",
    "\n",
    "\n",
    "longestPalindromicSubsequence(\"agbdba\")\n"
   ]
  },
  {
   "cell_type": "markdown",
   "metadata": {},
   "source": [
    "## Edit Distance\n",
    "\n",
    "https://leetcode.com/problems/edit-distance/\n"
   ]
  },
  {
   "cell_type": "code",
   "execution_count": 8,
   "metadata": {},
   "outputs": [
    {
     "name": "stdout",
     "output_type": "stream",
     "text": [
      "[[0, 1, 2, 3, 4, 5],\n",
      " [1, 0, 1, 2, 3, 4],\n",
      " [2, 1, 1, 2, 3, 4],\n",
      " [3, 2, 2, 1, 2, 3],\n",
      " [4, 3, 3, 2, 2, 2],\n",
      " [5, 4, 4, 3, 2, 3],\n",
      " [6, 5, 5, 4, 3, 3]]\n"
     ]
    },
    {
     "data": {
      "text/plain": [
       "3"
      ]
     },
     "execution_count": 8,
     "metadata": {},
     "output_type": "execute_result"
    }
   ],
   "source": [
    "def minDistance(word1: str, word2: str) -> int:\n",
    "    m = len(word1)\n",
    "    n = len(word2)\n",
    "    dp = [[0]*(n+1) for x in range(m+1)]\n",
    "    for i in range(m+1):\n",
    "        dp[i][0] = i\n",
    "    for i in range(n+1):\n",
    "        dp[0][i] = i\n",
    "    for i in range(1, m+1):\n",
    "        for j in range(1, n+1):\n",
    "            if word1[i-1] == word2[j-1]:\n",
    "                dp[i][j] = dp[i-1][j-1]\n",
    "            else:\n",
    "                dp[i][j] = 1 + min(dp[i][j-1], dp[i-1][j-1], dp[i-1][j])\n",
    "    pp.pprint(dp)\n",
    "    return dp[m][n]\n",
    "\n",
    "\n",
    "minDistance(\"abcdef\", \"azced\")\n"
   ]
  },
  {
   "cell_type": "markdown",
   "metadata": {},
   "source": [
    "## Coin Change\n"
   ]
  },
  {
   "cell_type": "code",
   "execution_count": 6,
   "metadata": {},
   "outputs": [
    {
     "name": "stdout",
     "output_type": "stream",
     "text": [
      "[0, 1, 1, 1, 2]\n"
     ]
    },
    {
     "data": {
      "text/plain": [
       "2"
      ]
     },
     "execution_count": 6,
     "metadata": {},
     "output_type": "execute_result"
    }
   ],
   "source": [
    "def coinChange(coins: list[int], amount: int) -> int:\n",
    "    dp = [(amount+1) for x in range(amount+1)]\n",
    "    dp[0] = 0\n",
    "    for cell in range(1, amount+1):\n",
    "        for x in coins:\n",
    "            if cell - x >= 0:\n",
    "                dp[cell] = min(dp[cell - x] + 1, dp[cell])\n",
    "    print(dp)\n",
    "    return dp[-1] if dp[-1] != amount+1 else -1\n",
    "\n",
    "\n",
    "coinChange([1, 2, 3], 4)\n"
   ]
  },
  {
   "cell_type": "markdown",
   "metadata": {},
   "source": [
    "## Paint Houses\n",
    "\n",
    "https://www.youtube.com/watch?v=fZIsEPhSBgM&ab_channel=KevinNaughtonJr.\n"
   ]
  },
  {
   "cell_type": "code",
   "execution_count": 10,
   "metadata": {},
   "outputs": [
    {
     "data": {
      "text/plain": [
       "0"
      ]
     },
     "execution_count": 10,
     "metadata": {},
     "output_type": "execute_result"
    }
   ],
   "source": [
    "# Paint House\n",
    "def minCostToPaintHouse(cost: list[list[int]]) -> int:\n",
    "    if (cost):\n",
    "        return 0\n",
    "    for i in range(1, len(cost)):\n",
    "        cost[i][0] += min(cost[i-1][1], cost[i-1][2])\n",
    "        cost[i][1] += min(cost[i-1][2], cost[i-1][0])\n",
    "        cost[i][2] += min(cost[i-1][1], cost[i-1][0])\n",
    "\n",
    "    # [[17, 2, 17], [18, 33, 7], [14, 3, 19]]\n",
    "    # [[17, 2, 17], [18, 33, 7], [21, 10, 37]]\n",
    "\n",
    "    return min(cost[i])\n",
    "\n",
    "\n",
    "minCostToPaintHouse([[17, 2, 17], [16, 16, 5], [14, 3, 19]])\n"
   ]
  },
  {
   "cell_type": "markdown",
   "metadata": {},
   "source": [
    "## Trapping Rain Water\n"
   ]
  },
  {
   "cell_type": "code",
   "execution_count": 33,
   "metadata": {},
   "outputs": [
    {
     "data": {
      "text/plain": [
       "6"
      ]
     },
     "execution_count": 33,
     "metadata": {},
     "output_type": "execute_result"
    }
   ],
   "source": [
    "# Brute Force -> min(leftMax - rightMax) - currHeight\n",
    "def rainWater(arr: list[int]) -> int:\n",
    "    n = len(arr)\n",
    "    prefixMax = [0]*n\n",
    "    prefixMax[0] = arr[0]\n",
    "    for i in range(1, n):\n",
    "        prefixMax[i] = max(prefixMax[i-1], arr[i])\n",
    "\n",
    "    postfixMax = [0]*n\n",
    "    postfixMax[-1] = arr[n-1]\n",
    "    for i in range(n-2, -1, -1):\n",
    "        postfixMax[i] = max(postfixMax[i+1], arr[i])\n",
    "\n",
    "    cap = 0\n",
    "    for i in range(n):\n",
    "        cap += min(prefixMax[i], postfixMax[i]) - arr[i]\n",
    "\n",
    "    return cap\n",
    "\n",
    "\n",
    "# https://youtu.be/ZI2z5pq0TqA?t=707\n",
    "def rainWaterOptimal(arr: list[int]) -> int:\n",
    "    l = 0\n",
    "    r = len(arr) - 1\n",
    "    maxL = arr[l]\n",
    "    maxR = arr[r]\n",
    "    cap = 0\n",
    "\n",
    "    while l < r:\n",
    "        if maxL <= maxR:\n",
    "            # Left Operation\n",
    "            l += 1\n",
    "            maxL = max(maxL, arr[l])\n",
    "            cap += maxL - arr[l]\n",
    "        else:\n",
    "            r -= 1\n",
    "            maxR = max(maxR, arr[r])\n",
    "            cap += maxR - arr[r]\n",
    "    return cap\n",
    "\n",
    "\n",
    "rainWaterOptimal([0, 1, 0, 2, 1, 0, 1, 3, 2, 1, 2, 1])\n"
   ]
  },
  {
   "cell_type": "markdown",
   "metadata": {},
   "source": [
    "## Grid of Unique Paths\n",
    "\n",
    "https://www.geeksforgeeks.org/count-possible-paths-top-left-bottom-right-nxm-matrix/\n"
   ]
  },
  {
   "cell_type": "code",
   "execution_count": 23,
   "metadata": {},
   "outputs": [
    {
     "data": {
      "text/plain": [
       "6"
      ]
     },
     "execution_count": 23,
     "metadata": {},
     "output_type": "execute_result"
    }
   ],
   "source": [
    "def noOfWays(m: int, n: int) -> int:\n",
    "    if m == 1 or n == 1:\n",
    "        return 1\n",
    "    return noOfWays(m-1, n) + noOfWays(m, n-1)\n",
    "\n",
    "\n",
    "def noOfWaysMemo(m: int, n: int, memo: dict = {}) -> int:\n",
    "    if (m, n) in memo:\n",
    "        return memo[(m, n)]\n",
    "    if m == 1 or n == 1:\n",
    "        return 1\n",
    "    memo[(m, n)] = noOfWaysMemo(m-1, n, memo) + noOfWaysMemo(m, n-1, memo)\n",
    "    return memo[(m, n)]\n",
    "\n",
    "\n",
    "noOfWaysMemo(3, 3)\n"
   ]
  },
  {
   "cell_type": "code",
   "execution_count": null,
   "metadata": {},
   "outputs": [],
   "source": []
  }
 ],
 "metadata": {
  "interpreter": {
   "hash": "9250689420f5fcec2e87e1b49a845440886f5cb4c2d782e001b00ac5594b23d3"
  },
  "kernelspec": {
   "display_name": "Python 3.9.5 64-bit",
   "name": "python3"
  },
  "language_info": {
   "codemirror_mode": {
    "name": "ipython",
    "version": 3
   },
   "file_extension": ".py",
   "mimetype": "text/x-python",
   "name": "python",
   "nbconvert_exporter": "python",
   "pygments_lexer": "ipython3",
   "version": "3.9.5"
  }
 },
 "nbformat": 4,
 "nbformat_minor": 4
}
