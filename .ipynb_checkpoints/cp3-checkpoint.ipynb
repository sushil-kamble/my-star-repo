{
 "cells": [
  {
   "cell_type": "markdown",
   "metadata": {},
   "source": [
    "## Group Anagrams\n"
   ]
  },
  {
   "cell_type": "code",
   "execution_count": 4,
   "metadata": {},
   "outputs": [
    {
     "data": {
      "text/plain": [
       "[['eat', 'tea', 'ate'], ['tan', 'nat'], ['bat']]"
      ]
     },
     "execution_count": 4,
     "metadata": {},
     "output_type": "execute_result"
    }
   ],
   "source": [
    "def groupAnagrams(strs: list[str]) -> list[list[str]]:\n",
    "    if (len(strs) == 0):\n",
    "        return []\n",
    "    d = {}\n",
    "    for x in strs:\n",
    "        k = \"\".join(sorted(x))\n",
    "        if k in d:\n",
    "            d[k].append(x)\n",
    "        else:\n",
    "            d[k] = [x]\n",
    "    return list(d.values())\n",
    "\n",
    "\n",
    "groupAnagrams([\"eat\", \"tea\", \"tan\", \"ate\", \"nat\", \"bat\"])\n"
   ]
  },
  {
   "cell_type": "markdown",
   "metadata": {},
   "source": [
    "## Pythagorean Triplet\n",
    "\n",
    "https://www.geeksforgeeks.org/find-pythagorean-triplet-in-an-unsorted-array/\n"
   ]
  },
  {
   "cell_type": "code",
   "execution_count": 5,
   "metadata": {},
   "outputs": [
    {
     "data": {
      "text/plain": [
       "True"
      ]
     },
     "execution_count": 5,
     "metadata": {},
     "output_type": "execute_result"
    }
   ],
   "source": [
    "def checkTriplet(arr: list[int]) -> bool:\n",
    "    arr = sorted([x**2 for x in arr])\n",
    "    for i in range(len(arr)-1, 1, -1):\n",
    "        s = set()\n",
    "        for j in range(len(arr)-1, -1, -1):\n",
    "            if arr[i] - arr[j] in s:\n",
    "                return True\n",
    "            s.add(arr[j])\n",
    "    return False\n",
    "\n",
    "\n",
    "checkTriplet([3, 2, 4, 5, 6])\n"
   ]
  },
  {
   "cell_type": "markdown",
   "metadata": {},
   "source": [
    "## Rotate Matrix by 90 (Rotate Image)\n",
    "\n",
    "https://www.youtube.com/watch?v=fMSJSS7eO1w&ab_channel=NeetCode\n"
   ]
  },
  {
   "cell_type": "code",
   "execution_count": 6,
   "metadata": {},
   "outputs": [
    {
     "data": {
      "text/plain": [
       "[[13, 9, 3, 1], [5, 6, 7, 2], [15, 10, 11, 12], [16, 14, 8, 4]]"
      ]
     },
     "execution_count": 6,
     "metadata": {},
     "output_type": "execute_result"
    }
   ],
   "source": [
    "# transpose a matrix\n",
    "def transpose(A):\n",
    "    for i in range(len(A)):\n",
    "        for j in range(i):\n",
    "            A[i][j], A[j][i] = A[j][i], A[i][j]\n",
    "\n",
    "\n",
    "def rotateBy90(mat: list[list[int]]) -> list[list[int]]:\n",
    "    n = len(mat)\n",
    "    copy = [[0]*n for x in range(n)]\n",
    "    k = n - 1\n",
    "    for i in range(n):\n",
    "        for j in range(n):\n",
    "            copy[j][k] = mat[i][j]\n",
    "        k -= 1\n",
    "    return copy\n",
    "\n",
    "\n",
    "def rotateImage(mat: list[list[int]]) -> list[list[int]]:\n",
    "    l, r = 0, len(mat) - 1\n",
    "    while l < r:\n",
    "        # entire row except last element\n",
    "        for i in range(l, r-1):\n",
    "            t, b = l, r\n",
    "            # save top left\n",
    "            # shift to right\n",
    "            topLeft = mat[t][l+i]\n",
    "            # move bottom left to top left\n",
    "            # shift to top\n",
    "            mat[t][l+i] = mat[b-i][l]\n",
    "            # move bottom right into bottom left\n",
    "            # shift to left\n",
    "            mat[b-i][l] = mat[b][r-i]\n",
    "            # move top right into bottom right\n",
    "            # shift to bottom\n",
    "            mat[b][r-i] = mat[t+i][r]\n",
    "            # move saved top left into top right\n",
    "            mat[t+i][r] = topLeft\n",
    "        l += 1\n",
    "        r -= 1\n",
    "    return mat\n",
    "\n",
    "\n",
    "# reverse (2 - Pointers) and take transpose\n",
    "rotateImage([[1, 2, 3, 4],\n",
    "            [5, 6, 7, 8],\n",
    "            [9, 10, 11, 12],\n",
    "            [13, 14, 15, 16]])\n"
   ]
  },
  {
   "cell_type": "markdown",
   "metadata": {},
   "source": [
    "## Meeting Rooms II (No. of platforms)\n",
    "\n",
    "https://www.lintcode.com/problem/919/description\n"
   ]
  },
  {
   "cell_type": "code",
   "execution_count": 7,
   "metadata": {},
   "outputs": [
    {
     "data": {
      "text/plain": [
       "2"
      ]
     },
     "execution_count": 7,
     "metadata": {},
     "output_type": "execute_result"
    }
   ],
   "source": [
    "def minMeetingRooms(intervals: list[tuple[int]]) -> int:\n",
    "    start = sorted([x[0] for x in intervals])\n",
    "    end = sorted([x[1] for x in intervals])\n",
    "    i, j, active, curr_max = 0, 0, 0, 0\n",
    "    while i < len(start) and j < len(start):\n",
    "        if (start[i] < end[j]):\n",
    "            active += 1\n",
    "            i += 1\n",
    "        else:\n",
    "            active -= 1\n",
    "            j += 1\n",
    "        curr_max = max(curr_max, active)\n",
    "    return curr_max\n",
    "\n",
    "\n",
    "minMeetingRooms([(0, 30), (5, 10), (15, 20)])\n"
   ]
  },
  {
   "cell_type": "markdown",
   "metadata": {},
   "source": [
    "## Subarray with 0 sum\n"
   ]
  },
  {
   "cell_type": "code",
   "execution_count": 8,
   "metadata": {},
   "outputs": [
    {
     "data": {
      "text/plain": [
       "False"
      ]
     },
     "execution_count": 8,
     "metadata": {},
     "output_type": "execute_result"
    }
   ],
   "source": [
    "def subArrayWithSum0(arr: list[int]) -> bool:\n",
    "    s = 0\n",
    "    v = set()\n",
    "    for x in arr:\n",
    "        s += x\n",
    "        if s == 0 or s in v:\n",
    "            return True\n",
    "        v.add(s)\n",
    "    return False\n",
    "\n",
    "\n",
    "subArrayWithSum0([-3, 1, 3, 1, 6])\n"
   ]
  },
  {
   "cell_type": "markdown",
   "metadata": {},
   "source": [
    "## Find Missing and repeated Element (Not Sure)\n"
   ]
  },
  {
   "cell_type": "code",
   "execution_count": 9,
   "metadata": {},
   "outputs": [
    {
     "data": {
      "text/plain": [
       "(5, 1)"
      ]
     },
     "execution_count": 9,
     "metadata": {},
     "output_type": "execute_result"
    }
   ],
   "source": [
    "def findMissAndRep(arr: list[int]) -> tuple:\n",
    "    xor, x, y = 0, 0, 0\n",
    "    n = len(arr)\n",
    "    for i in range(n):\n",
    "        xor = xor ^ arr[i]\n",
    "    for i in range(1, n+1):\n",
    "        xor = xor ^ i\n",
    "    setBit = xor & ~(xor-1)\n",
    "    for i in range(n):\n",
    "        if arr[i] & setBit:\n",
    "            x = x ^ arr[i]\n",
    "        else:\n",
    "            y = y ^ arr[i]\n",
    "    for i in range(1, n+1):\n",
    "        if i & setBit:\n",
    "            x = x ^ i\n",
    "        else:\n",
    "            y = y ^ i\n",
    "\n",
    "    return (x, y)\n",
    "\n",
    "\n",
    "findMissAndRep([4, 3, 6, 2, 1, 1])\n"
   ]
  }
 ],
 "metadata": {
  "interpreter": {
   "hash": "9250689420f5fcec2e87e1b49a845440886f5cb4c2d782e001b00ac5594b23d3"
  },
  "kernelspec": {
   "display_name": "Python 3",
   "language": "python",
   "name": "python3"
  },
  "language_info": {
   "codemirror_mode": {
    "name": "ipython",
    "version": 3
   },
   "file_extension": ".py",
   "mimetype": "text/x-python",
   "name": "python",
   "nbconvert_exporter": "python",
   "pygments_lexer": "ipython3",
   "version": "3.9.5"
  }
 },
 "nbformat": 4,
 "nbformat_minor": 4
}
