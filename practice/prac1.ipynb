{
 "cells": [
  {
   "cell_type": "code",
   "execution_count": 3,
   "metadata": {},
   "outputs": [],
   "source": [
    "import pprint\n",
    "pp = pprint.PrettyPrinter()"
   ]
  },
  {
   "cell_type": "code",
   "execution_count": 1,
   "id": "ebd1d4c7-48c9-4a7d-8c1c-0334809cde0f",
   "metadata": {},
   "outputs": [
    {
     "data": {
      "text/plain": [
       "9"
      ]
     },
     "execution_count": 1,
     "metadata": {},
     "output_type": "execute_result"
    }
   ],
   "source": [
    "def knapsack01(wt: list[int], cost: list[int], w: int,  n: int) -> int:\n",
    "    if n == 0 or w == 0:\n",
    "        return 0\n",
    "    if wt[n-1] <= w:\n",
    "        return max(cost[n-1] + knapsack01(wt, cost, w-wt[n-1], n-1),\n",
    "                  knapsack01(wt, cost, w, n-1))\n",
    "    return knapsack01(wt, cost, w, n-1)\n",
    "knapsack01([1, 3, 4, 5], [1, 4, 5, 7], 7, 4)"
   ]
  },
  {
   "cell_type": "code",
   "execution_count": 30,
   "id": "06a830c3-ab33-43eb-b26e-9402f20bac31",
   "metadata": {},
   "outputs": [
    {
     "data": {
      "text/plain": [
       "True"
      ]
     },
     "execution_count": 30,
     "metadata": {},
     "output_type": "execute_result"
    }
   ],
   "source": [
    "# https://youtu.be/_gPcYovP7wc?list=PL_z_8CaSLPWekqhdCPmFohncHwz8TY2Go&t=3\n",
    "def subSetSum(arr: list[int], s: int, n: int) -> bool: \n",
    "    if s == 0:\n",
    "        return True\n",
    "    if n == 0:\n",
    "        return False\n",
    "    if arr[n-1] > s:\n",
    "        return subSetSum(arr, s, n-1)\n",
    "    return subSetSum(arr, s-arr[n-1], n-1) or \\\n",
    "                subSetSum(arr, s, n-1)\n",
    "subSetSum([3, 34, 4, 12, 5, 2], 9, 6)"
   ]
  },
  {
   "cell_type": "markdown",
   "metadata": {},
   "source": [
    "- Equal Sum Partition\n",
    "    1. Take sum \n",
    "    2. If odd then false\n",
    "    3. If even then `subSetSum(arr, s // 2, n)`"
   ]
  },
  {
   "cell_type": "code",
   "execution_count": 9,
   "metadata": {},
   "outputs": [
    {
     "name": "stdout",
     "output_type": "stream",
     "text": [
      "[[1, 0, 0, 0, 0, 0, 0],\n",
      " [1, 0, 0, 1, 0, 0, 0],\n",
      " [1, 0, 0, 2, 0, 0, 1],\n",
      " [1, 0, 0, 3, 0, 0, 3],\n",
      " [1, 0, 0, 4, 0, 0, 6]]\n"
     ]
    },
    {
     "data": {
      "text/plain": [
       "6"
      ]
     },
     "execution_count": 9,
     "metadata": {},
     "output_type": "execute_result"
    }
   ],
   "source": [
    "def countSubsetSum(arr: list, s: int) -> int:\n",
    "    n = len(arr)\n",
    "    dp = [[0]*(s+1) for x in range(n+1)]\n",
    "    for i in range(s+1):\n",
    "        dp[0][i] = 0\n",
    "    for i in range(n+1):\n",
    "        dp[i][0] = 1\n",
    "    for i in range(1, n+1):\n",
    "        for j in range(1, s+1):\n",
    "            if arr[i-1] <= j:\n",
    "                dp[i][j] = dp[i-1][j - arr[i-1]] + dp[i-1][j]\n",
    "            else:\n",
    "                dp[i][j] = dp[i-1][j]\n",
    "    pp.pprint(dp)\n",
    "    return dp[i][j]\n",
    "countSubsetSum([3, 3, 3, 3], 6)"
   ]
  },
  {
   "cell_type": "markdown",
   "metadata": {},
   "source": [
    "- Minimum Subset Sum Difference\n",
    "    1. Take sum of array to calculate the range\n",
    "    1. Remove the elements which are not need in range. How ?\n",
    "    1. Return the last row of `subSetSumExists`\n",
    "    1. Filter the values which are True to get Filtered Range\n",
    "    1. Go through `half way` of range and take `min(range - 2*range[i])`\n"
   ]
  },
  {
   "cell_type": "code",
   "execution_count": 10,
   "metadata": {},
   "outputs": [
    {
     "name": "stdout",
     "output_type": "stream",
     "text": [
      "2\n"
     ]
    }
   ],
   "source": [
    "def subSetExists(arr: list, s: int) -> int:\n",
    "    n = len(arr)\n",
    "    dp = [[0]*(s+1) for x in range(n+1)]\n",
    "    for i in range(s+1):\n",
    "        dp[0][i] = False\n",
    "    for i in range(n+1):\n",
    "        dp[i][0] = True\n",
    "    for i in range(1, n+1):\n",
    "        for j in range(1, s+1):\n",
    "            if arr[i-1] <= j:\n",
    "                dp[i][j] = dp[i-1][j - arr[i-1]] or dp[i-1][j]\n",
    "            else:\n",
    "                dp[i][j] = dp[i-1][j]\n",
    "    return dp[i]\n",
    "arr = [ 7, 2, 94, 49, 30, 24, 85, 55, 57, 41 ]\n",
    "r = sum(arr) # step 1\n",
    "boolArray = subSetExists(arr, r)\n",
    "filteredRange = [i for i in range(len(boolArray)) if boolArray[i]] # step 2, 3, 4\n",
    "n = len(filteredRange)\n",
    "curr_min = float('inf') # step 5\n",
    "for x in filteredRange[:n//2]:\n",
    "    curr_min = min(curr_min, r - (2*x))\n",
    "print(curr_min)\n"
   ]
  },
  {
   "cell_type": "markdown",
   "metadata": {},
   "source": [
    "- Count the number of subset with a given difference\n",
    "    1. As `s1 - s2 = diff` and `s1 + s2 = sum` so `s1 = (diff + sum) / 2`\n",
    "    1. So calculate s1 and put in `countSubsetSum(arr, s1)`\n",
    "- Target sum\n",
    "    1. Same as prev"
   ]
  },
  {
   "cell_type": "code",
   "execution_count": null,
   "metadata": {},
   "outputs": [],
   "source": []
  }
 ],
 "metadata": {
  "interpreter": {
   "hash": "9250689420f5fcec2e87e1b49a845440886f5cb4c2d782e001b00ac5594b23d3"
  },
  "kernelspec": {
   "display_name": "Python 3.9.5 64-bit",
   "name": "python3"
  },
  "language_info": {
   "codemirror_mode": {
    "name": "ipython",
    "version": 3
   },
   "file_extension": ".py",
   "mimetype": "text/x-python",
   "name": "python",
   "nbconvert_exporter": "python",
   "pygments_lexer": "ipython3",
   "version": "3.9.5"
  }
 },
 "nbformat": 4,
 "nbformat_minor": 5
}
