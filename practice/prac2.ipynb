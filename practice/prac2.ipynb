{
 "cells": [
  {
   "cell_type": "code",
   "execution_count": 1,
   "metadata": {},
   "outputs": [
    {
     "data": {
      "text/plain": [
       "[0, 1]"
      ]
     },
     "execution_count": 1,
     "metadata": {},
     "output_type": "execute_result"
    }
   ],
   "source": [
    "# TWO SUM\n",
    "\n",
    "def twoSum(arr, target):\n",
    "    d = dict()\n",
    "    for i, x in enumerate(arr):\n",
    "        if x in d:\n",
    "            return [d[x], i]\n",
    "        else:\n",
    "            d[target - x] = i\n",
    "\n",
    "twoSum([2, 7, 11, 15], 9)"
   ]
  },
  {
   "cell_type": "code",
   "execution_count": 3,
   "metadata": {},
   "outputs": [
    {
     "data": {
      "text/plain": [
       "3"
      ]
     },
     "execution_count": 3,
     "metadata": {},
     "output_type": "execute_result"
    }
   ],
   "source": [
    "# second last element\n",
    "\n",
    "def secondLast(arr):\n",
    "    first = second = float('-inf')\n",
    "    for x in arr:\n",
    "        if x > first:\n",
    "            second = first\n",
    "            first = x\n",
    "        elif x > second and x != first:\n",
    "            second = x\n",
    "    return second\n",
    "\n",
    "secondLast([1, 2, 3, 4, 4])"
   ]
  },
  {
   "cell_type": "code",
   "execution_count": 7,
   "metadata": {},
   "outputs": [
    {
     "data": {
      "text/plain": [
       "([1, 2, 3, 2, 2, 3, 3], 3)"
      ]
     },
     "execution_count": 7,
     "metadata": {},
     "output_type": "execute_result"
    }
   ],
   "source": [
    "# Remove duplicate in Place\n",
    "\n",
    "def removeDup(arr):\n",
    "    i = 0\n",
    "    for j in range(1, len(arr)):\n",
    "        if (arr[j] != arr[i]):\n",
    "            i += 1\n",
    "            arr[i] = arr[j]\n",
    "    return (arr, i+1)\n",
    "\n",
    "removeDup([1,1,2,2,2,3,3])"
   ]
  },
  {
   "cell_type": "code",
   "execution_count": 12,
   "metadata": {},
   "outputs": [
    {
     "data": {
      "text/plain": [
       "2"
      ]
     },
     "execution_count": 12,
     "metadata": {},
     "output_type": "execute_result"
    }
   ],
   "source": [
    "# second min element\n",
    "def minSecond(nums):\n",
    "    first = second = float('inf')\n",
    "    for x in nums:\n",
    "        if x < first:\n",
    "            second = first\n",
    "            first = x \n",
    "        elif x < second and x != first:\n",
    "            second = x\n",
    "    return second\n",
    "\n",
    "\n",
    "minSecond([1, 2, 3, 4, 4])"
   ]
  },
  {
   "cell_type": "code",
   "execution_count": 22,
   "metadata": {},
   "outputs": [
    {
     "data": {
      "text/plain": [
       "[8, 1, 10, 9, 8, 1, 5, 2]"
      ]
     },
     "execution_count": 22,
     "metadata": {},
     "output_type": "execute_result"
    }
   ],
   "source": [
    "# reverse an array\n",
    "\n",
    "def reverseArray(arr):\n",
    "    i, j = 0, len(arr) - 1\n",
    "    while i < j:\n",
    "        arr[i], arr[j] = arr[j], arr[i]\n",
    "        i += 1\n",
    "        j -= 1\n",
    "\n",
    "arr = [2,5,1,8,9,10,1,8]\n",
    "reverseArray(arr)\n",
    "arr"
   ]
  },
  {
   "cell_type": "code",
   "execution_count": 30,
   "metadata": {},
   "outputs": [
    {
     "data": {
      "text/plain": [
       "(30, 20)"
      ]
     },
     "execution_count": 30,
     "metadata": {},
     "output_type": "execute_result"
    }
   ],
   "source": [
    "# swap 2 elements using 3rd \n",
    "def swap(a, b):\n",
    "    temp = a\n",
    "    a = b\n",
    "    b = temp\n",
    "    return (a, b)\n",
    "\n",
    "def swap(a, b):\n",
    "    a = a+b\n",
    "    b = a-b\n",
    "    a = a-b\n",
    "    return (a, b)\n",
    "\n",
    "swap(20, 30)"
   ]
  },
  {
   "cell_type": "code",
   "execution_count": 37,
   "metadata": {},
   "outputs": [
    {
     "data": {
      "text/plain": [
       "[8, 10, 12, 14, 16, 18, 20, 2, 4, 6]"
      ]
     },
     "execution_count": 37,
     "metadata": {},
     "output_type": "execute_result"
    }
   ],
   "source": [
    "# Rotate Array - conter clock wise\n",
    "def reverseArray(arr, start, end):\n",
    "    i, j = start, end\n",
    "    while i < j:\n",
    "        arr[i] = arr[i] + arr[j]\n",
    "        arr[j] = arr[i] - arr[j]\n",
    "        arr[i] = arr[i] - arr[j]\n",
    "        i += 1\n",
    "        j -= 1\n",
    "        \n",
    "def rotateArray(arr, d):\n",
    "    d = d % len(arr)\n",
    "    reverseArray(arr, 0, d-1)\n",
    "    reverseArray(arr, d, len(arr)-1)\n",
    "    reverseArray(arr, 0, len(arr)-1)\n",
    "\n",
    "arr = [2,4,6,8,10,12,14,16,18,20]\n",
    "rotateArray(arr, 3)\n",
    "arr\n"
   ]
  },
  {
   "cell_type": "code",
   "execution_count": 38,
   "metadata": {},
   "outputs": [
    {
     "data": {
      "text/plain": [
       "[16, 18, 20, 2, 4, 6, 8, 10, 12, 14]"
      ]
     },
     "execution_count": 38,
     "metadata": {},
     "output_type": "execute_result"
    }
   ],
   "source": [
    "# Rotate Array - Clock wise\n",
    "def reverseArray(arr, start, end):\n",
    "    i, j = start, end\n",
    "    while i < j:\n",
    "        arr[i] = arr[i] + arr[j]\n",
    "        arr[j] = arr[i] - arr[j]\n",
    "        arr[i] = arr[i] - arr[j]\n",
    "        i += 1\n",
    "        j -= 1\n",
    "        \n",
    "def rotateArray(arr, d):\n",
    "    d = d % len(arr)\n",
    "    d = len(arr) - d\n",
    "    reverseArray(arr, 0, d-1)\n",
    "    reverseArray(arr, d, len(arr)-1)\n",
    "    reverseArray(arr, 0, len(arr)-1)\n",
    "\n",
    "arr = [2,4,6,8,10,12,14,16,18,20]\n",
    "rotateArray(arr, 3)\n",
    "arr\n"
   ]
  },
  {
   "cell_type": "code",
   "execution_count": 62,
   "metadata": {},
   "outputs": [
    {
     "name": "stdout",
     "output_type": "stream",
     "text": [
      "LL: 1-->2-->3-->4-->5\n",
      "Remove At Pos: 2-->3-->4-->5\n"
     ]
    }
   ],
   "source": [
    "class Node:\n",
    "    def __init__(self, data=None, next=None):\n",
    "        self.data = data\n",
    "        self.next = next\n",
    "\n",
    "\n",
    "class LinkedList:\n",
    "    def __init__(self):\n",
    "        self.head = None\n",
    "\n",
    "    def insert_at_beginning(self, data):\n",
    "        node = Node(data, self.head)\n",
    "        self.head = node\n",
    "\n",
    "    def insert_at_end(self, data):\n",
    "        if self.head is None:\n",
    "            self.head = Node(data)\n",
    "        else:\n",
    "            curr = self.head\n",
    "            while curr.next:\n",
    "                curr = curr.next\n",
    "            curr.next = Node(data)\n",
    "\n",
    "    def insert_at(self, index, value):\n",
    "        pass\n",
    "\n",
    "    def remove_at(self, index):\n",
    "        if index == 0:\n",
    "            self.head = self.head.next\n",
    "            return\n",
    "        curr = self.head\n",
    "        count = 0\n",
    "        while count != index - 1:\n",
    "            curr = curr.next\n",
    "            count += 1\n",
    "        curr.next = curr.next.next\n",
    "\n",
    "\n",
    "    def get_length(self):\n",
    "        pass\n",
    "\n",
    "    def print(self):\n",
    "        if self.head is None:\n",
    "            print(\"Linked list is empty\")\n",
    "            return\n",
    "        itr = self.head\n",
    "        string = \"\"\n",
    "        while itr.next:\n",
    "            string += str(itr.data) + \"-->\"\n",
    "            itr = itr.next\n",
    "        string += str(itr.data)\n",
    "        print(string)\n",
    "\n",
    "    def printLL(self, dummy: Node) -> None:\n",
    "        if dummy is None:\n",
    "            print(\"Linked list is empty\")\n",
    "            return\n",
    "        itr = dummy\n",
    "        string = \"\"\n",
    "        while itr.next:\n",
    "            string += str(itr.data) + \"-->\"\n",
    "            itr = itr.next\n",
    "        string += str(itr.data)\n",
    "        print(string)\n",
    "\n",
    "\n",
    "def buildLL(instance: Node):\n",
    "    instance.head = None\n",
    "    instance.insert_at_end(1)\n",
    "    instance.insert_at_end(2)\n",
    "    instance.insert_at_end(3)\n",
    "    instance.insert_at_end(4)\n",
    "    instance.insert_at_end(5)\n",
    "    print(\"LL: \", end=\"\")\n",
    "    instance.print()\n",
    "\n",
    "\n",
    "ll = LinkedList()\n",
    "buildLL(ll)\n",
    "\n",
    "# Remove At Pos\n",
    "print(\"Remove At Pos: \", end=\"\")\n",
    "ll.remove_at(0)\n",
    "ll.print()\n"
   ]
  },
  {
   "cell_type": "code",
   "execution_count": 74,
   "metadata": {},
   "outputs": [
    {
     "name": "stdout",
     "output_type": "stream",
     "text": [
      "1.19 µs ± 4.18 ns per loop (mean ± std. dev. of 7 runs, 1,000,000 loops each)\n"
     ]
    }
   ],
   "source": [
    "%%timeit\n",
    "# MOve zeros to the end\n",
    "\n",
    "def moveZeros(arr):\n",
    "    i = 0\n",
    "    j = len(arr)-1\n",
    "    while i < j:\n",
    "        if arr[j] == 0:\n",
    "            j -= 1\n",
    "        elif arr[i] != 0 and arr[j] != 0:\n",
    "            i += 1\n",
    "        elif arr[i] == 0 and arr[j] != 0:\n",
    "            arr[i], arr[j] = arr[j], arr[i]\n",
    "            i += 1\n",
    "            j -= 1\n",
    "        else:\n",
    "            i += 1\n",
    "\n",
    "\n",
    "arr = [4,0,3,0,2,5,9,7,0,5,0,0,0,0,0,4,0]\n",
    "moveZeros(arr)\n",
    "arr"
   ]
  },
  {
   "cell_type": "code",
   "execution_count": 76,
   "metadata": {},
   "outputs": [
    {
     "name": "stdout",
     "output_type": "stream",
     "text": [
      "1.29 µs ± 109 ns per loop (mean ± std. dev. of 7 runs, 1,000,000 loops each)\n"
     ]
    }
   ],
   "source": [
    "%%timeit\n",
    "\n",
    "# Moev zeros but keep the order same\n",
    "\n",
    "def moveZeros(arr):\n",
    "    j = -1\n",
    "    for k in range(len(arr)):\n",
    "        if arr[k] == 0:\n",
    "            j = k\n",
    "            break\n",
    "    for i in range(j+1, len(arr)):\n",
    "        if arr[i] != 0:\n",
    "            arr[j], arr[i] = arr[i], arr[j]\n",
    "            j += 1\n",
    "\n",
    "arr = [4,0,3,0,2,5,9,7,0,5,0,0,0,0,0,4,0]\n",
    "moveZeros(arr)\n",
    "arr"
   ]
  },
  {
   "cell_type": "code",
   "execution_count": 79,
   "metadata": {},
   "outputs": [
    {
     "data": {
      "text/plain": [
       "4"
      ]
     },
     "execution_count": 79,
     "metadata": {},
     "output_type": "execute_result"
    }
   ],
   "source": [
    "def removeDuplicatesInAnSortedArray(arr):\n",
    "    i = 0\n",
    "    for j in range(i+1, len(arr)):\n",
    "        if arr[i] != arr[j]:\n",
    "            arr[i+1] = arr[j]\n",
    "            i += 1\n",
    "    return i+1\n",
    "\n",
    "arr = [1,2,3,3,3,4,4]\n",
    "removeDuplicatesInAnSortedArray(arr)"
   ]
  },
  {
   "cell_type": "code",
   "execution_count": 1,
   "metadata": {},
   "outputs": [
    {
     "data": {
      "text/plain": [
       "[0, 2]"
      ]
     },
     "execution_count": 1,
     "metadata": {},
     "output_type": "execute_result"
    }
   ],
   "source": [
    "list(range(0, 4,))"
   ]
  },
  {
   "cell_type": "code",
   "execution_count": 22,
   "metadata": {},
   "outputs": [
    {
     "name": "stdout",
     "output_type": "stream",
     "text": [
      "[5, -5, 5, 2, 4, 7, 1, 8, 0, -8]\n",
      "[5, -5, 2, -2, 4, 7, 1, 8, 0, -8]\n",
      "[5, -5, 2, -2, 4, -8, 1, 8, 0, -8]\n",
      "----------\n",
      "[5, 2, 4, 7, 1, 8, 0] [-5, -2, -8]\n"
     ]
    },
    {
     "data": {
      "text/plain": [
       "[5, -5, 2, -2, 4, -8, 1, 8, 0, -8]"
      ]
     },
     "execution_count": 22,
     "metadata": {},
     "output_type": "execute_result"
    }
   ],
   "source": [
    "def arrPosNeg(arr):\n",
    "    posArr = []\n",
    "    negArr = []\n",
    "    i = 0\n",
    "    for x in arr:\n",
    "        if x >= 0:\n",
    "            posArr.append(x)\n",
    "        else:\n",
    "            negArr.append(x)\n",
    "    itr_to = min(len(posArr), len(negArr))\n",
    "    j = 0\n",
    "    i = 0\n",
    "    while i < itr_to:\n",
    "        arr[j] = posArr[i] \n",
    "        arr[j+1] = negArr[i]\n",
    "        print(arr)\n",
    "        j += 2\n",
    "    while j != len(arr) - 1:\n",
    "        arr[j] = \n",
    "    print('----------')\n",
    "    print(posArr, negArr)\n",
    "    return arr\n",
    "\n",
    "arrPosNeg([-5, -2, 5, 2, 4, 7, 1, 8, 0, -8])"
   ]
  },
  {
   "cell_type": "code",
   "execution_count": null,
   "metadata": {},
   "outputs": [],
   "source": []
  }
 ],
 "metadata": {
  "kernelspec": {
   "display_name": "Python 3",
   "language": "python",
   "name": "python3"
  },
  "language_info": {
   "codemirror_mode": {
    "name": "ipython",
    "version": 3
   },
   "file_extension": ".py",
   "mimetype": "text/x-python",
   "name": "python",
   "nbconvert_exporter": "python",
   "pygments_lexer": "ipython3",
   "version": "3.9.6"
  }
 },
 "nbformat": 4,
 "nbformat_minor": 2
}
