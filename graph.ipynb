{
 "cells": [
  {
   "cell_type": "markdown",
   "metadata": {},
   "source": [
    "## DFS\n"
   ]
  },
  {
   "cell_type": "code",
   "execution_count": 9,
   "metadata": {},
   "outputs": [
    {
     "name": "stdout",
     "output_type": "stream",
     "text": [
      "Following is DFS from (starting from vertex 'A')\n",
      "A B D E F C "
     ]
    }
   ],
   "source": [
    "# Using a Python dictionary to act as an adjacency list\n",
    "graph = {\n",
    "    'A': ['B', 'C'],\n",
    "    'B': ['D', 'E'],\n",
    "    'C': ['F'],\n",
    "    'D': [],\n",
    "    'E': ['F'],\n",
    "    'F': []\n",
    "}\n",
    "\n",
    "\n",
    "def dfs(node, visited=set()):\n",
    "    if node not in visited:\n",
    "        print(node, end=\" \")\n",
    "        visited.add(node)\n",
    "        for neighbour in graph[node]:\n",
    "            dfs(neighbour, visited)\n",
    "\n",
    "\n",
    "# Driver Code\n",
    "print(\"Following is DFS from (starting from vertex 'A')\")\n",
    "dfs('A')\n"
   ]
  },
  {
   "cell_type": "markdown",
   "metadata": {},
   "source": [
    "## BFS\n"
   ]
  },
  {
   "cell_type": "code",
   "execution_count": 10,
   "metadata": {},
   "outputs": [
    {
     "name": "stdout",
     "output_type": "stream",
     "text": [
      "Following is Depth First Traversal\n",
      "2 4 5 6 3 "
     ]
    }
   ],
   "source": [
    "from collections import deque\n",
    "graph = {\n",
    "    1: [2, 3],\n",
    "    2: [4, 5],\n",
    "    3: [5],\n",
    "    4: [2, 5, 6],\n",
    "    5: [6, 4, 3, 2],\n",
    "    6: [4, 5]\n",
    "}\n",
    "\n",
    "\n",
    "def bfs(node):\n",
    "    visited = set()         # Set to keep track of visited nodes.\n",
    "    queue = deque([])       # Initialize a queue\n",
    "    visited.add(node)\n",
    "    queue.append(node)\n",
    "\n",
    "    while queue:\n",
    "        s = queue.popleft()\n",
    "        print(s, end=\" \")\n",
    "        for neighbour in graph[s]:\n",
    "            if neighbour not in visited:\n",
    "                visited.add(neighbour)\n",
    "                queue.append(neighbour)\n",
    "\n",
    "\n",
    "# Driver Code\n",
    "print(\"Following is Depth First Traversal\")\n",
    "bfs(2)\n"
   ]
  },
  {
   "cell_type": "code",
   "execution_count": 11,
   "metadata": {},
   "outputs": [],
   "source": [
    "class Graph:\n",
    "    def __init__(self, V):\n",
    "        self.V = V\n",
    "        self.adj = [[] for i in range(V)]\n",
    "        self.dadj = [[] for i in range(V)]\n",
    "\n",
    "     \n",
    "    def addEdge(self, v, w):\n",
    "        self.adj[v].append(w) # Add w to v’s list. (undirected graph)\n",
    "        self.adj[w].append(v) # Undirected graph\n",
    "        self.dadj[v].append(w) # Directed graph"
   ]
  },
  {
   "cell_type": "markdown",
   "metadata": {},
   "source": [
    "## Cycle Detection in Undirected Graph\n",
    "https://youtu.be/Y9NFqI6Pzd4?t=893\n",
    "\n",
    "![graph](data:image/png;base64,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)"
   ]
  },
  {
   "cell_type": "code",
   "execution_count": 12,
   "metadata": {},
   "outputs": [
    {
     "data": {
      "text/plain": [
       "True"
      ]
     },
     "execution_count": 12,
     "metadata": {},
     "output_type": "execute_result"
    }
   ],
   "source": [
    "def dfs(graph: list, start, parent, vis: list[bool]) -> bool:\n",
    "    vis[start] = True\n",
    "    for x in graph[start]:\n",
    "        if not vis[x]:\n",
    "            if dfs(graph, x, start, vis):\n",
    "                return True\n",
    "        elif x != parent:\n",
    "            return True\n",
    "    return False\n",
    "    \n",
    "def isCycle(v: int, graph: list) -> bool:\n",
    "    vis = [False]*v\n",
    "    for x in range(v):\n",
    "        if not vis[x]:\n",
    "            if dfs(graph, x, -1, vis):\n",
    "                return True\n",
    "    return False\n",
    "\n",
    "v = 5 # No of nodes\n",
    "g = Graph(v) # Total 5 vertices in graph\n",
    "g.addEdge(0, 1)\n",
    "g.addEdge(1, 2)\n",
    "g.addEdge(2, 3)\n",
    "g.addEdge(3, 4)\n",
    "g.addEdge(4, 1)\n",
    "isCycle(v, g.adj)\n"
   ]
  },
  {
   "cell_type": "markdown",
   "metadata": {},
   "source": [
    "## Cycle Detection in Directed Graph\n",
    "https://youtu.be/uzVUw90ZFIg?t=596\n",
    "\n",
    "![directed graph](data:image/png;base64,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)"
   ]
  },
  {
   "cell_type": "code",
   "execution_count": 13,
   "metadata": {},
   "outputs": [
    {
     "data": {
      "text/plain": [
       "True"
      ]
     },
     "execution_count": 13,
     "metadata": {},
     "output_type": "execute_result"
    }
   ],
   "source": [
    "def dfs(graph: list, start, viz: list[bool], dfsViz: list[bool]) -> bool:\n",
    "    viz[start] = True\n",
    "    dfsViz[start] = True\n",
    "    for x in graph[start]:\n",
    "        if not viz[x]:\n",
    "            if dfs(graph, x, viz, dfsViz):\n",
    "                return True\n",
    "        elif dfsViz[x]:\n",
    "            return True\n",
    "    dfsViz[start] = False\n",
    "    return False\n",
    "    \n",
    "def isCycle(v: int, graph: list) -> bool:\n",
    "    viz = [False]*v\n",
    "    dfsViz = [False]*v\n",
    "    for x in range(v):\n",
    "        if not viz[x]:\n",
    "            if dfs(graph, x, viz, dfsViz):\n",
    "                return True\n",
    "    return False\n",
    "\n",
    "v = 4 # No of nodes\n",
    "g = Graph(v)\n",
    "g.addEdge(0, 1)\n",
    "g.addEdge(1, 2)\n",
    "g.addEdge(2, 3)\n",
    "g.addEdge(3, 3)\n",
    "isCycle(v, g.dadj)\n"
   ]
  },
  {
   "cell_type": "markdown",
   "metadata": {},
   "source": [
    "## Topological Sort (Not Finished)\n",
    "https://youtu.be/Yh6EFazXipA?t=811"
   ]
  },
  {
   "cell_type": "code",
   "execution_count": 14,
   "metadata": {},
   "outputs": [
    {
     "ename": "NameError",
     "evalue": "name 'n' is not defined",
     "output_type": "error",
     "traceback": [
      "\u001b[1;31m---------------------------------------------------------------------------\u001b[0m",
      "\u001b[1;31mNameError\u001b[0m                                 Traceback (most recent call last)",
      "\u001b[1;32m<ipython-input-14-10ba65322017>\u001b[0m in \u001b[0;36m<module>\u001b[1;34m\u001b[0m\n\u001b[0;32m     19\u001b[0m \u001b[0mg\u001b[0m\u001b[1;33m.\u001b[0m\u001b[0maddEdge\u001b[0m\u001b[1;33m(\u001b[0m\u001b[1;36m1\u001b[0m\u001b[1;33m,\u001b[0m \u001b[1;36m0\u001b[0m\u001b[1;33m)\u001b[0m\u001b[1;33m\u001b[0m\u001b[1;33m\u001b[0m\u001b[0m\n\u001b[0;32m     20\u001b[0m \u001b[0mg\u001b[0m\u001b[1;33m.\u001b[0m\u001b[0maddEdge\u001b[0m\u001b[1;33m(\u001b[0m\u001b[1;36m2\u001b[0m\u001b[1;33m,\u001b[0m \u001b[1;36m0\u001b[0m\u001b[1;33m)\u001b[0m\u001b[1;33m\u001b[0m\u001b[1;33m\u001b[0m\u001b[0m\n\u001b[1;32m---> 21\u001b[1;33m \u001b[0mtopologicalSort\u001b[0m\u001b[1;33m(\u001b[0m\u001b[0mv\u001b[0m\u001b[1;33m,\u001b[0m \u001b[0mg\u001b[0m\u001b[1;33m.\u001b[0m\u001b[0mdadj\u001b[0m\u001b[1;33m)\u001b[0m \u001b[1;31m# Directed Acyclic Graph\u001b[0m\u001b[1;33m\u001b[0m\u001b[1;33m\u001b[0m\u001b[0m\n\u001b[0m",
      "\u001b[1;32m<ipython-input-14-10ba65322017>\u001b[0m in \u001b[0;36mtopologicalSort\u001b[1;34m(v, graph)\u001b[0m\n\u001b[0;32m      9\u001b[0m     \u001b[0mviz\u001b[0m \u001b[1;33m=\u001b[0m \u001b[1;33m[\u001b[0m\u001b[1;32mFalse\u001b[0m\u001b[1;33m]\u001b[0m\u001b[1;33m*\u001b[0m\u001b[0mv\u001b[0m\u001b[1;33m\u001b[0m\u001b[1;33m\u001b[0m\u001b[0m\n\u001b[0;32m     10\u001b[0m     \u001b[0mstack\u001b[0m \u001b[1;33m=\u001b[0m \u001b[1;33m[\u001b[0m\u001b[1;33m]\u001b[0m\u001b[1;33m\u001b[0m\u001b[1;33m\u001b[0m\u001b[0m\n\u001b[1;32m---> 11\u001b[1;33m     \u001b[1;32mfor\u001b[0m \u001b[0mv\u001b[0m \u001b[1;32min\u001b[0m \u001b[0mrange\u001b[0m\u001b[1;33m(\u001b[0m\u001b[0mn\u001b[0m\u001b[1;33m)\u001b[0m\u001b[1;33m:\u001b[0m\u001b[1;33m\u001b[0m\u001b[1;33m\u001b[0m\u001b[0m\n\u001b[0m\u001b[0;32m     12\u001b[0m         \u001b[1;32mif\u001b[0m \u001b[1;32mnot\u001b[0m \u001b[0mviz\u001b[0m\u001b[1;33m[\u001b[0m\u001b[0mv\u001b[0m\u001b[1;33m]\u001b[0m\u001b[1;33m:\u001b[0m\u001b[1;33m\u001b[0m\u001b[1;33m\u001b[0m\u001b[0m\n\u001b[0;32m     13\u001b[0m             \u001b[0mdfs\u001b[0m\u001b[1;33m(\u001b[0m\u001b[0mgraph\u001b[0m\u001b[1;33m,\u001b[0m \u001b[0mv\u001b[0m\u001b[1;33m,\u001b[0m \u001b[0mviz\u001b[0m\u001b[1;33m,\u001b[0m \u001b[0mstack\u001b[0m\u001b[1;33m)\u001b[0m\u001b[1;33m\u001b[0m\u001b[1;33m\u001b[0m\u001b[0m\n",
      "\u001b[1;31mNameError\u001b[0m: name 'n' is not defined"
     ]
    }
   ],
   "source": [
    "def dfs(graph: list, start, viz: list[bool], stack: list) -> bool:\n",
    "    viz[start] = True\n",
    "    for x in graph[start]:\n",
    "        if not viz[x]:\n",
    "            dfs(graph, x, viz, stack)\n",
    "    stack.append(start)\n",
    "    \n",
    "def topologicalSort(v: int, graph: list) -> bool:\n",
    "    viz = [False]*v\n",
    "    stack = []\n",
    "    for v in range(n):\n",
    "        if not viz[v]:\n",
    "            dfs(graph, v, viz, stack)\n",
    "    return stack[::-1] # reverse as we have to pop\n",
    "\n",
    "v = 4 # No of nodes\n",
    "g = Graph(v)\n",
    "g.addEdge(3, 0)\n",
    "g.addEdge(1, 0)\n",
    "g.addEdge(2, 0)\n",
    "topologicalSort(v, g.dadj) # Directed Acyclic Graph\n"
   ]
  },
  {
   "cell_type": "markdown",
   "metadata": {},
   "source": [
    "## More on Graph \n",
    "\n",
    "1. Clone Graph - [Link](https://leetcode.com/problems/clone-graph/)\n",
    "1. Is Graph Bipartite? - [Link](https://leetcode.com/problems/is-graph-bipartite/)\n",
    "1. Minimum Spanning Tree - [Link](https://practice.geeksforgeeks.org/problems/minimum-spanning-tree/1)\n",
    "1. Implementing Dijkstra Algorithm - [Link](https://practice.geeksforgeeks.org/problems/implementing-dijkstra-set-1-adjacency-matrix/1)\n",
    "1. Floyd Warshall - [Link](https://practice.geeksforgeeks.org/problems/implementing-floyd-warshall2042/1)"
   ]
  },
  {
   "cell_type": "markdown",
   "metadata": {},
   "source": []
  }
 ],
 "metadata": {
  "interpreter": {
   "hash": "9250689420f5fcec2e87e1b49a845440886f5cb4c2d782e001b00ac5594b23d3"
  },
  "kernelspec": {
   "display_name": "Python 3.9.5 64-bit",
   "name": "python3"
  },
  "language_info": {
   "codemirror_mode": {
    "name": "ipython",
    "version": 3
   },
   "file_extension": ".py",
   "mimetype": "text/x-python",
   "name": "python",
   "nbconvert_exporter": "python",
   "pygments_lexer": "ipython3",
   "version": "3.9.5"
  },
  "orig_nbformat": 4
 },
 "nbformat": 4,
 "nbformat_minor": 2
}
